{
 "cells": [
  {
   "cell_type": "markdown",
   "metadata": {},
   "source": [
    "### **About the Project**\n",
    "\n",
    "Predicting home prices in Bangalore based on features like Location, Number of Bedrooms and Bathrooms, Area etc."
   ]
  },
  {
   "cell_type": "markdown",
   "metadata": {},
   "source": [
    "### **Import Libraries**"
   ]
  },
  {
   "cell_type": "code",
   "execution_count": 446,
   "metadata": {
    "_cell_guid": "b1076dfc-b9ad-4769-8c92-a6c4dae69d19",
    "_uuid": "8f2839f25d086af736a60e9eeb907d3b93b6e0e5",
    "execution": {
     "iopub.execute_input": "2023-08-10T16:34:31.154400Z",
     "iopub.status.busy": "2023-08-10T16:34:31.153947Z",
     "iopub.status.idle": "2023-08-10T16:34:31.165453Z",
     "shell.execute_reply": "2023-08-10T16:34:31.164347Z",
     "shell.execute_reply.started": "2023-08-10T16:34:31.154354Z"
    }
   },
   "outputs": [
    {
     "name": "stdout",
     "output_type": "stream",
     "text": [
      "/kaggle/input/bengaluru-house-price-data/Bengaluru_House_Data.csv\n"
     ]
    }
   ],
   "source": [
    "import os\n",
    "import numpy as np \n",
    "for dirname, _, filenames in os.walk('/kaggle/input'):\n",
    "    for filename in filenames:\n",
    "        print(os.path.join(dirname, filename))"
   ]
  },
  {
   "cell_type": "code",
   "execution_count": 447,
   "metadata": {
    "execution": {
     "iopub.execute_input": "2023-08-10T16:34:31.207061Z",
     "iopub.status.busy": "2023-08-10T16:34:31.206022Z",
     "iopub.status.idle": "2023-08-10T16:34:31.215732Z",
     "shell.execute_reply": "2023-08-10T16:34:31.214876Z",
     "shell.execute_reply.started": "2023-08-10T16:34:31.207008Z"
    }
   },
   "outputs": [],
   "source": [
    "import pandas as pd\n",
    "import numpy as np\n",
    "from matplotlib import pyplot as plt\n",
    "%matplotlib inline\n",
    "import matplotlib\n",
    "matplotlib.rcParams['figure.figsize'] = (20,10)\n",
    "import warnings\n",
    "warnings.filterwarnings('ignore')"
   ]
  },
  {
   "cell_type": "markdown",
   "metadata": {},
   "source": [
    "### **Load the Dataset**"
   ]
  },
  {
   "cell_type": "code",
   "execution_count": 448,
   "metadata": {
    "execution": {
     "iopub.execute_input": "2023-08-10T16:34:31.269799Z",
     "iopub.status.busy": "2023-08-10T16:34:31.269387Z",
     "iopub.status.idle": "2023-08-10T16:34:31.313293Z",
     "shell.execute_reply": "2023-08-10T16:34:31.312280Z",
     "shell.execute_reply.started": "2023-08-10T16:34:31.269765Z"
    }
   },
   "outputs": [
    {
     "data": {
      "text/html": [
       "<div>\n",
       "<style scoped>\n",
       "    .dataframe tbody tr th:only-of-type {\n",
       "        vertical-align: middle;\n",
       "    }\n",
       "\n",
       "    .dataframe tbody tr th {\n",
       "        vertical-align: top;\n",
       "    }\n",
       "\n",
       "    .dataframe thead th {\n",
       "        text-align: right;\n",
       "    }\n",
       "</style>\n",
       "<table border=\"1\" class=\"dataframe\">\n",
       "  <thead>\n",
       "    <tr style=\"text-align: right;\">\n",
       "      <th></th>\n",
       "      <th>area_type</th>\n",
       "      <th>availability</th>\n",
       "      <th>location</th>\n",
       "      <th>size</th>\n",
       "      <th>society</th>\n",
       "      <th>total_sqft</th>\n",
       "      <th>bath</th>\n",
       "      <th>balcony</th>\n",
       "      <th>price</th>\n",
       "    </tr>\n",
       "  </thead>\n",
       "  <tbody>\n",
       "    <tr>\n",
       "      <th>0</th>\n",
       "      <td>Super built-up  Area</td>\n",
       "      <td>19-Dec</td>\n",
       "      <td>Electronic City Phase II</td>\n",
       "      <td>2 BHK</td>\n",
       "      <td>Coomee</td>\n",
       "      <td>1056</td>\n",
       "      <td>2.0</td>\n",
       "      <td>1.0</td>\n",
       "      <td>39.07</td>\n",
       "    </tr>\n",
       "    <tr>\n",
       "      <th>1</th>\n",
       "      <td>Plot  Area</td>\n",
       "      <td>Ready To Move</td>\n",
       "      <td>Chikka Tirupathi</td>\n",
       "      <td>4 Bedroom</td>\n",
       "      <td>Theanmp</td>\n",
       "      <td>2600</td>\n",
       "      <td>5.0</td>\n",
       "      <td>3.0</td>\n",
       "      <td>120.00</td>\n",
       "    </tr>\n",
       "    <tr>\n",
       "      <th>2</th>\n",
       "      <td>Built-up  Area</td>\n",
       "      <td>Ready To Move</td>\n",
       "      <td>Uttarahalli</td>\n",
       "      <td>3 BHK</td>\n",
       "      <td>NaN</td>\n",
       "      <td>1440</td>\n",
       "      <td>2.0</td>\n",
       "      <td>3.0</td>\n",
       "      <td>62.00</td>\n",
       "    </tr>\n",
       "    <tr>\n",
       "      <th>3</th>\n",
       "      <td>Super built-up  Area</td>\n",
       "      <td>Ready To Move</td>\n",
       "      <td>Lingadheeranahalli</td>\n",
       "      <td>3 BHK</td>\n",
       "      <td>Soiewre</td>\n",
       "      <td>1521</td>\n",
       "      <td>3.0</td>\n",
       "      <td>1.0</td>\n",
       "      <td>95.00</td>\n",
       "    </tr>\n",
       "    <tr>\n",
       "      <th>4</th>\n",
       "      <td>Super built-up  Area</td>\n",
       "      <td>Ready To Move</td>\n",
       "      <td>Kothanur</td>\n",
       "      <td>2 BHK</td>\n",
       "      <td>NaN</td>\n",
       "      <td>1200</td>\n",
       "      <td>2.0</td>\n",
       "      <td>1.0</td>\n",
       "      <td>51.00</td>\n",
       "    </tr>\n",
       "  </tbody>\n",
       "</table>\n",
       "</div>"
      ],
      "text/plain": [
       "              area_type   availability                  location       size  \\\n",
       "0  Super built-up  Area         19-Dec  Electronic City Phase II      2 BHK   \n",
       "1            Plot  Area  Ready To Move          Chikka Tirupathi  4 Bedroom   \n",
       "2        Built-up  Area  Ready To Move               Uttarahalli      3 BHK   \n",
       "3  Super built-up  Area  Ready To Move        Lingadheeranahalli      3 BHK   \n",
       "4  Super built-up  Area  Ready To Move                  Kothanur      2 BHK   \n",
       "\n",
       "   society total_sqft  bath  balcony   price  \n",
       "0  Coomee        1056   2.0      1.0   39.07  \n",
       "1  Theanmp       2600   5.0      3.0  120.00  \n",
       "2      NaN       1440   2.0      3.0   62.00  \n",
       "3  Soiewre       1521   3.0      1.0   95.00  \n",
       "4      NaN       1200   2.0      1.0   51.00  "
      ]
     },
     "execution_count": 448,
     "metadata": {},
     "output_type": "execute_result"
    }
   ],
   "source": [
    "df1 = pd.read_csv('/kaggle/input/bengaluru-house-price-data/Bengaluru_House_Data.csv')\n",
    "df1.head()"
   ]
  },
  {
   "cell_type": "markdown",
   "metadata": {},
   "source": [
    "### **Understanding The Data**"
   ]
  },
  {
   "cell_type": "code",
   "execution_count": 449,
   "metadata": {
    "execution": {
     "iopub.execute_input": "2023-08-10T16:34:31.329776Z",
     "iopub.status.busy": "2023-08-10T16:34:31.328823Z",
     "iopub.status.idle": "2023-08-10T16:34:31.335999Z",
     "shell.execute_reply": "2023-08-10T16:34:31.335043Z",
     "shell.execute_reply.started": "2023-08-10T16:34:31.329733Z"
    }
   },
   "outputs": [
    {
     "data": {
      "text/plain": [
       "(13320, 9)"
      ]
     },
     "execution_count": 449,
     "metadata": {},
     "output_type": "execute_result"
    }
   ],
   "source": [
    "df1.shape"
   ]
  },
  {
   "cell_type": "code",
   "execution_count": 450,
   "metadata": {
    "execution": {
     "iopub.execute_input": "2023-08-10T16:34:31.398407Z",
     "iopub.status.busy": "2023-08-10T16:34:31.397381Z",
     "iopub.status.idle": "2023-08-10T16:34:31.437313Z",
     "shell.execute_reply": "2023-08-10T16:34:31.436037Z",
     "shell.execute_reply.started": "2023-08-10T16:34:31.398370Z"
    }
   },
   "outputs": [
    {
     "name": "stdout",
     "output_type": "stream",
     "text": [
      "<class 'pandas.core.frame.DataFrame'>\n",
      "RangeIndex: 13320 entries, 0 to 13319\n",
      "Data columns (total 9 columns):\n",
      " #   Column        Non-Null Count  Dtype  \n",
      "---  ------        --------------  -----  \n",
      " 0   area_type     13320 non-null  object \n",
      " 1   availability  13320 non-null  object \n",
      " 2   location      13319 non-null  object \n",
      " 3   size          13304 non-null  object \n",
      " 4   society       7818 non-null   object \n",
      " 5   total_sqft    13320 non-null  object \n",
      " 6   bath          13247 non-null  float64\n",
      " 7   balcony       12711 non-null  float64\n",
      " 8   price         13320 non-null  float64\n",
      "dtypes: float64(3), object(6)\n",
      "memory usage: 936.7+ KB\n"
     ]
    }
   ],
   "source": [
    "df1.info()"
   ]
  },
  {
   "cell_type": "code",
   "execution_count": 451,
   "metadata": {
    "execution": {
     "iopub.execute_input": "2023-08-10T16:34:31.461452Z",
     "iopub.status.busy": "2023-08-10T16:34:31.460826Z",
     "iopub.status.idle": "2023-08-10T16:34:31.497311Z",
     "shell.execute_reply": "2023-08-10T16:34:31.496114Z",
     "shell.execute_reply.started": "2023-08-10T16:34:31.461393Z"
    }
   },
   "outputs": [
    {
     "data": {
      "text/plain": [
       "area_type          0\n",
       "availability       0\n",
       "location           1\n",
       "size              16\n",
       "society         5502\n",
       "total_sqft         0\n",
       "bath              73\n",
       "balcony          609\n",
       "price              0\n",
       "dtype: int64"
      ]
     },
     "execution_count": 451,
     "metadata": {},
     "output_type": "execute_result"
    }
   ],
   "source": [
    "df1.isna().sum()"
   ]
  },
  {
   "cell_type": "markdown",
   "metadata": {},
   "source": [
    "Examine the columns."
   ]
  },
  {
   "cell_type": "code",
   "execution_count": 452,
   "metadata": {
    "execution": {
     "iopub.execute_input": "2023-08-10T16:34:31.517264Z",
     "iopub.status.busy": "2023-08-10T16:34:31.516785Z",
     "iopub.status.idle": "2023-08-10T16:34:31.529594Z",
     "shell.execute_reply": "2023-08-10T16:34:31.528379Z",
     "shell.execute_reply.started": "2023-08-10T16:34:31.517216Z"
    }
   },
   "outputs": [
    {
     "data": {
      "text/plain": [
       "Ready To Move    10581\n",
       "18-Dec             307\n",
       "18-May             295\n",
       "18-Apr             271\n",
       "18-Aug             200\n",
       "                 ...  \n",
       "15-Aug               1\n",
       "17-Jan               1\n",
       "16-Nov               1\n",
       "16-Jan               1\n",
       "14-Jul               1\n",
       "Name: availability, Length: 81, dtype: int64"
      ]
     },
     "execution_count": 452,
     "metadata": {},
     "output_type": "execute_result"
    }
   ],
   "source": [
    "df1['availability'].value_counts()"
   ]
  },
  {
   "cell_type": "code",
   "execution_count": 453,
   "metadata": {
    "execution": {
     "iopub.execute_input": "2023-08-10T16:34:31.572672Z",
     "iopub.status.busy": "2023-08-10T16:34:31.572266Z",
     "iopub.status.idle": "2023-08-10T16:34:31.584212Z",
     "shell.execute_reply": "2023-08-10T16:34:31.582810Z",
     "shell.execute_reply.started": "2023-08-10T16:34:31.572640Z"
    }
   },
   "outputs": [
    {
     "data": {
      "text/plain": [
       "Super built-up  Area    8790\n",
       "Built-up  Area          2418\n",
       "Plot  Area              2025\n",
       "Carpet  Area              87\n",
       "Name: area_type, dtype: int64"
      ]
     },
     "execution_count": 453,
     "metadata": {},
     "output_type": "execute_result"
    }
   ],
   "source": [
    "df1[\"area_type\"].value_counts()"
   ]
  },
  {
   "cell_type": "markdown",
   "metadata": {},
   "source": [
    "For simplicity I am dropping availability, balcony and society columns."
   ]
  },
  {
   "cell_type": "code",
   "execution_count": 454,
   "metadata": {
    "execution": {
     "iopub.execute_input": "2023-08-10T16:34:31.623467Z",
     "iopub.status.busy": "2023-08-10T16:34:31.623051Z",
     "iopub.status.idle": "2023-08-10T16:34:31.630550Z",
     "shell.execute_reply": "2023-08-10T16:34:31.629280Z",
     "shell.execute_reply.started": "2023-08-10T16:34:31.623426Z"
    }
   },
   "outputs": [],
   "source": [
    "df1.drop(['availability','society','balcony'],axis=1,inplace=True)"
   ]
  },
  {
   "cell_type": "code",
   "execution_count": 455,
   "metadata": {
    "execution": {
     "iopub.execute_input": "2023-08-10T16:34:31.679178Z",
     "iopub.status.busy": "2023-08-10T16:34:31.677839Z",
     "iopub.status.idle": "2023-08-10T16:34:31.686342Z",
     "shell.execute_reply": "2023-08-10T16:34:31.685173Z",
     "shell.execute_reply.started": "2023-08-10T16:34:31.679125Z"
    }
   },
   "outputs": [
    {
     "data": {
      "text/plain": [
       "Index(['area_type', 'location', 'size', 'total_sqft', 'bath', 'price'], dtype='object')"
      ]
     },
     "execution_count": 455,
     "metadata": {},
     "output_type": "execute_result"
    }
   ],
   "source": [
    "df1.columns"
   ]
  },
  {
   "cell_type": "markdown",
   "metadata": {},
   "source": [
    "### **Data Cleaning**"
   ]
  },
  {
   "cell_type": "markdown",
   "metadata": {},
   "source": [
    "Let us handle the missing values first."
   ]
  },
  {
   "cell_type": "code",
   "execution_count": 456,
   "metadata": {
    "execution": {
     "iopub.execute_input": "2023-08-10T16:34:31.732453Z",
     "iopub.status.busy": "2023-08-10T16:34:31.731905Z",
     "iopub.status.idle": "2023-08-10T16:34:31.759113Z",
     "shell.execute_reply": "2023-08-10T16:34:31.758258Z",
     "shell.execute_reply.started": "2023-08-10T16:34:31.732414Z"
    }
   },
   "outputs": [
    {
     "data": {
      "text/plain": [
       "area_type      0\n",
       "location       1\n",
       "size          16\n",
       "total_sqft     0\n",
       "bath          73\n",
       "price          0\n",
       "dtype: int64"
      ]
     },
     "execution_count": 456,
     "metadata": {},
     "output_type": "execute_result"
    }
   ],
   "source": [
    "df1.isna().sum()"
   ]
  },
  {
   "cell_type": "code",
   "execution_count": 457,
   "metadata": {
    "execution": {
     "iopub.execute_input": "2023-08-10T16:34:31.780060Z",
     "iopub.status.busy": "2023-08-10T16:34:31.779522Z",
     "iopub.status.idle": "2023-08-10T16:34:31.789568Z",
     "shell.execute_reply": "2023-08-10T16:34:31.788634Z",
     "shell.execute_reply.started": "2023-08-10T16:34:31.780031Z"
    }
   },
   "outputs": [],
   "source": [
    "df1['size'] = df1['size'].fillna(df1['size'].mode()[0])"
   ]
  },
  {
   "cell_type": "code",
   "execution_count": 458,
   "metadata": {
    "execution": {
     "iopub.execute_input": "2023-08-10T16:34:31.831993Z",
     "iopub.status.busy": "2023-08-10T16:34:31.831535Z",
     "iopub.status.idle": "2023-08-10T16:34:31.842001Z",
     "shell.execute_reply": "2023-08-10T16:34:31.840752Z",
     "shell.execute_reply.started": "2023-08-10T16:34:31.831957Z"
    }
   },
   "outputs": [],
   "source": [
    "df1.drop(labels = df1[df1['bath'].isna() == True].index , inplace = True)"
   ]
  },
  {
   "cell_type": "code",
   "execution_count": 459,
   "metadata": {
    "execution": {
     "iopub.execute_input": "2023-08-10T16:34:31.887239Z",
     "iopub.status.busy": "2023-08-10T16:34:31.886791Z",
     "iopub.status.idle": "2023-08-10T16:34:31.897465Z",
     "shell.execute_reply": "2023-08-10T16:34:31.896379Z",
     "shell.execute_reply.started": "2023-08-10T16:34:31.887178Z"
    }
   },
   "outputs": [],
   "source": [
    "df1.drop(labels = df1[df1['location'].isna() == True].index, inplace = True)"
   ]
  },
  {
   "cell_type": "code",
   "execution_count": 460,
   "metadata": {
    "execution": {
     "iopub.execute_input": "2023-08-10T16:34:31.943884Z",
     "iopub.status.busy": "2023-08-10T16:34:31.943467Z",
     "iopub.status.idle": "2023-08-10T16:34:31.972482Z",
     "shell.execute_reply": "2023-08-10T16:34:31.971271Z",
     "shell.execute_reply.started": "2023-08-10T16:34:31.943849Z"
    }
   },
   "outputs": [
    {
     "data": {
      "text/plain": [
       "area_type     0\n",
       "location      0\n",
       "size          0\n",
       "total_sqft    0\n",
       "bath          0\n",
       "price         0\n",
       "dtype: int64"
      ]
     },
     "execution_count": 460,
     "metadata": {},
     "output_type": "execute_result"
    }
   ],
   "source": [
    "df1.isna().sum()"
   ]
  },
  {
   "cell_type": "code",
   "execution_count": 461,
   "metadata": {
    "execution": {
     "iopub.execute_input": "2023-08-10T16:34:31.996408Z",
     "iopub.status.busy": "2023-08-10T16:34:31.996013Z",
     "iopub.status.idle": "2023-08-10T16:34:32.002964Z",
     "shell.execute_reply": "2023-08-10T16:34:32.001913Z",
     "shell.execute_reply.started": "2023-08-10T16:34:31.996374Z"
    }
   },
   "outputs": [
    {
     "data": {
      "text/plain": [
       "(13246, 6)"
      ]
     },
     "execution_count": 461,
     "metadata": {},
     "output_type": "execute_result"
    }
   ],
   "source": [
    "df1.shape"
   ]
  },
  {
   "cell_type": "code",
   "execution_count": 462,
   "metadata": {
    "execution": {
     "iopub.execute_input": "2023-08-10T16:34:32.051827Z",
     "iopub.status.busy": "2023-08-10T16:34:32.051093Z",
     "iopub.status.idle": "2023-08-10T16:34:32.060016Z",
     "shell.execute_reply": "2023-08-10T16:34:32.058789Z",
     "shell.execute_reply.started": "2023-08-10T16:34:32.051790Z"
    }
   },
   "outputs": [
    {
     "data": {
      "text/plain": [
       "array(['2 BHK', '4 Bedroom', '3 BHK', '4 BHK', '6 Bedroom', '3 Bedroom',\n",
       "       '1 BHK', '1 RK', '1 Bedroom', '8 Bedroom', '2 Bedroom',\n",
       "       '7 Bedroom', '5 BHK', '7 BHK', '6 BHK', '5 Bedroom', '11 BHK',\n",
       "       '9 BHK', '9 Bedroom', '27 BHK', '10 Bedroom', '11 Bedroom',\n",
       "       '10 BHK', '19 BHK', '16 BHK', '43 Bedroom', '14 BHK', '8 BHK',\n",
       "       '12 Bedroom', '13 BHK', '18 Bedroom'], dtype=object)"
      ]
     },
     "execution_count": 462,
     "metadata": {},
     "output_type": "execute_result"
    }
   ],
   "source": [
    "df1['size'].unique()"
   ]
  },
  {
   "cell_type": "markdown",
   "metadata": {},
   "source": [
    "The category 4 Bedroom and 4BHK are same. To solve this let us create a new column BHK.\n"
   ]
  },
  {
   "cell_type": "code",
   "execution_count": 463,
   "metadata": {
    "execution": {
     "iopub.execute_input": "2023-08-10T16:34:32.106172Z",
     "iopub.status.busy": "2023-08-10T16:34:32.105750Z",
     "iopub.status.idle": "2023-08-10T16:34:32.129006Z",
     "shell.execute_reply": "2023-08-10T16:34:32.128249Z",
     "shell.execute_reply.started": "2023-08-10T16:34:32.106137Z"
    }
   },
   "outputs": [
    {
     "data": {
      "text/plain": [
       "array([ 2,  4,  3,  6,  1,  8,  7,  5, 11,  9, 27, 10, 19, 16, 43, 14, 12,\n",
       "       13, 18])"
      ]
     },
     "execution_count": 463,
     "metadata": {},
     "output_type": "execute_result"
    }
   ],
   "source": [
    "df1['bhk'] = df1['size'].apply(lambda x:int(x.split()[0]))\n",
    "df1['bhk'].unique()"
   ]
  },
  {
   "cell_type": "markdown",
   "metadata": {},
   "source": [
    "Looking the no of bedrooms we find entries like 43, 27 etc. let us look those rows."
   ]
  },
  {
   "cell_type": "code",
   "execution_count": 464,
   "metadata": {
    "execution": {
     "iopub.execute_input": "2023-08-10T16:34:32.171680Z",
     "iopub.status.busy": "2023-08-10T16:34:32.170806Z",
     "iopub.status.idle": "2023-08-10T16:34:32.187384Z",
     "shell.execute_reply": "2023-08-10T16:34:32.186284Z",
     "shell.execute_reply.started": "2023-08-10T16:34:32.171640Z"
    }
   },
   "outputs": [
    {
     "data": {
      "text/html": [
       "<div>\n",
       "<style scoped>\n",
       "    .dataframe tbody tr th:only-of-type {\n",
       "        vertical-align: middle;\n",
       "    }\n",
       "\n",
       "    .dataframe tbody tr th {\n",
       "        vertical-align: top;\n",
       "    }\n",
       "\n",
       "    .dataframe thead th {\n",
       "        text-align: right;\n",
       "    }\n",
       "</style>\n",
       "<table border=\"1\" class=\"dataframe\">\n",
       "  <thead>\n",
       "    <tr style=\"text-align: right;\">\n",
       "      <th></th>\n",
       "      <th>area_type</th>\n",
       "      <th>location</th>\n",
       "      <th>size</th>\n",
       "      <th>total_sqft</th>\n",
       "      <th>bath</th>\n",
       "      <th>price</th>\n",
       "      <th>bhk</th>\n",
       "    </tr>\n",
       "  </thead>\n",
       "  <tbody>\n",
       "    <tr>\n",
       "      <th>1718</th>\n",
       "      <td>Super built-up  Area</td>\n",
       "      <td>2Electronic City Phase II</td>\n",
       "      <td>27 BHK</td>\n",
       "      <td>8000</td>\n",
       "      <td>27.0</td>\n",
       "      <td>230.0</td>\n",
       "      <td>27</td>\n",
       "    </tr>\n",
       "    <tr>\n",
       "      <th>4684</th>\n",
       "      <td>Plot  Area</td>\n",
       "      <td>Munnekollal</td>\n",
       "      <td>43 Bedroom</td>\n",
       "      <td>2400</td>\n",
       "      <td>40.0</td>\n",
       "      <td>660.0</td>\n",
       "      <td>43</td>\n",
       "    </tr>\n",
       "  </tbody>\n",
       "</table>\n",
       "</div>"
      ],
      "text/plain": [
       "                 area_type                   location        size total_sqft  \\\n",
       "1718  Super built-up  Area  2Electronic City Phase II      27 BHK       8000   \n",
       "4684            Plot  Area                Munnekollal  43 Bedroom       2400   \n",
       "\n",
       "      bath  price  bhk  \n",
       "1718  27.0  230.0   27  \n",
       "4684  40.0  660.0   43  "
      ]
     },
     "execution_count": 464,
     "metadata": {},
     "output_type": "execute_result"
    }
   ],
   "source": [
    "df1[df1['bhk']>20]"
   ]
  },
  {
   "cell_type": "markdown",
   "metadata": {},
   "source": [
    "43 bedrooms at 2400sqft area doesn't make any sense. It is an error. Before cleaning this up I want to clean the total_sqft column."
   ]
  },
  {
   "cell_type": "code",
   "execution_count": 465,
   "metadata": {
    "execution": {
     "iopub.execute_input": "2023-08-10T16:34:32.222559Z",
     "iopub.status.busy": "2023-08-10T16:34:32.222113Z",
     "iopub.status.idle": "2023-08-10T16:34:32.231659Z",
     "shell.execute_reply": "2023-08-10T16:34:32.230431Z",
     "shell.execute_reply.started": "2023-08-10T16:34:32.222521Z"
    }
   },
   "outputs": [
    {
     "data": {
      "text/plain": [
       "array(['1056', '2600', '1440', ..., '1133 - 1384', '774', '4689'],\n",
       "      dtype=object)"
      ]
     },
     "execution_count": 465,
     "metadata": {},
     "output_type": "execute_result"
    }
   ],
   "source": [
    "df1['total_sqft'].unique()"
   ]
  },
  {
   "cell_type": "markdown",
   "metadata": {},
   "source": [
    "Not all values in the total_sqft column is a single number. It has values which are in range format. Let us first extract them and convert them into a single value."
   ]
  },
  {
   "cell_type": "code",
   "execution_count": 466,
   "metadata": {
    "execution": {
     "iopub.execute_input": "2023-08-10T16:34:32.274590Z",
     "iopub.status.busy": "2023-08-10T16:34:32.273207Z",
     "iopub.status.idle": "2023-08-10T16:34:32.281426Z",
     "shell.execute_reply": "2023-08-10T16:34:32.280523Z",
     "shell.execute_reply.started": "2023-08-10T16:34:32.274543Z"
    }
   },
   "outputs": [],
   "source": [
    "def cnvt_sqft(x):\n",
    "    token = x.split('-')\n",
    "    if len(token) == 2:\n",
    "        return (float(token[0])+float(token[1]))/2\n",
    "    try:\n",
    "        return float(x)\n",
    "    except:\n",
    "        return None"
   ]
  },
  {
   "cell_type": "code",
   "execution_count": 467,
   "metadata": {
    "execution": {
     "iopub.execute_input": "2023-08-10T16:34:32.328251Z",
     "iopub.status.busy": "2023-08-10T16:34:32.326938Z",
     "iopub.status.idle": "2023-08-10T16:34:32.348374Z",
     "shell.execute_reply": "2023-08-10T16:34:32.347388Z",
     "shell.execute_reply.started": "2023-08-10T16:34:32.328182Z"
    }
   },
   "outputs": [],
   "source": [
    "df1['total_sqft'] = df1['total_sqft'].apply(cnvt_sqft)"
   ]
  },
  {
   "cell_type": "code",
   "execution_count": 468,
   "metadata": {
    "execution": {
     "iopub.execute_input": "2023-08-10T16:34:32.388804Z",
     "iopub.status.busy": "2023-08-10T16:34:32.388036Z",
     "iopub.status.idle": "2023-08-10T16:34:32.396979Z",
     "shell.execute_reply": "2023-08-10T16:34:32.395976Z",
     "shell.execute_reply.started": "2023-08-10T16:34:32.388760Z"
    }
   },
   "outputs": [
    {
     "data": {
      "text/plain": [
       "array([1056. , 2600. , 1440. , ..., 1258.5,  774. , 4689. ])"
      ]
     },
     "execution_count": 468,
     "metadata": {},
     "output_type": "execute_result"
    }
   ],
   "source": [
    "df1['total_sqft'].unique()"
   ]
  },
  {
   "cell_type": "code",
   "execution_count": 469,
   "metadata": {
    "execution": {
     "iopub.execute_input": "2023-08-10T16:34:32.438453Z",
     "iopub.status.busy": "2023-08-10T16:34:32.437923Z",
     "iopub.status.idle": "2023-08-10T16:34:32.463589Z",
     "shell.execute_reply": "2023-08-10T16:34:32.462794Z",
     "shell.execute_reply.started": "2023-08-10T16:34:32.438416Z"
    }
   },
   "outputs": [
    {
     "data": {
      "text/plain": [
       "area_type     0\n",
       "location      0\n",
       "size          0\n",
       "total_sqft    0\n",
       "bath          0\n",
       "price         0\n",
       "bhk           0\n",
       "dtype: int64"
      ]
     },
     "execution_count": 469,
     "metadata": {},
     "output_type": "execute_result"
    }
   ],
   "source": [
    "df1 = df1[~df1['total_sqft'].isnull()]\n",
    "df1.isna().sum()"
   ]
  },
  {
   "cell_type": "markdown",
   "metadata": {},
   "source": [
    "### **Feature Engineering**"
   ]
  },
  {
   "cell_type": "code",
   "execution_count": 470,
   "metadata": {
    "execution": {
     "iopub.execute_input": "2023-08-10T16:34:32.489772Z",
     "iopub.status.busy": "2023-08-10T16:34:32.489367Z",
     "iopub.status.idle": "2023-08-10T16:34:32.495273Z",
     "shell.execute_reply": "2023-08-10T16:34:32.494351Z",
     "shell.execute_reply.started": "2023-08-10T16:34:32.489739Z"
    }
   },
   "outputs": [],
   "source": [
    "df2 = df1.copy()"
   ]
  },
  {
   "cell_type": "code",
   "execution_count": 471,
   "metadata": {
    "execution": {
     "iopub.execute_input": "2023-08-10T16:34:32.554125Z",
     "iopub.status.busy": "2023-08-10T16:34:32.553233Z",
     "iopub.status.idle": "2023-08-10T16:34:32.570925Z",
     "shell.execute_reply": "2023-08-10T16:34:32.569921Z",
     "shell.execute_reply.started": "2023-08-10T16:34:32.554085Z"
    }
   },
   "outputs": [
    {
     "data": {
      "text/html": [
       "<div>\n",
       "<style scoped>\n",
       "    .dataframe tbody tr th:only-of-type {\n",
       "        vertical-align: middle;\n",
       "    }\n",
       "\n",
       "    .dataframe tbody tr th {\n",
       "        vertical-align: top;\n",
       "    }\n",
       "\n",
       "    .dataframe thead th {\n",
       "        text-align: right;\n",
       "    }\n",
       "</style>\n",
       "<table border=\"1\" class=\"dataframe\">\n",
       "  <thead>\n",
       "    <tr style=\"text-align: right;\">\n",
       "      <th></th>\n",
       "      <th>area_type</th>\n",
       "      <th>location</th>\n",
       "      <th>size</th>\n",
       "      <th>total_sqft</th>\n",
       "      <th>bath</th>\n",
       "      <th>price</th>\n",
       "      <th>bhk</th>\n",
       "    </tr>\n",
       "  </thead>\n",
       "  <tbody>\n",
       "    <tr>\n",
       "      <th>0</th>\n",
       "      <td>Super built-up  Area</td>\n",
       "      <td>Electronic City Phase II</td>\n",
       "      <td>2 BHK</td>\n",
       "      <td>1056.0</td>\n",
       "      <td>2.0</td>\n",
       "      <td>39.07</td>\n",
       "      <td>2</td>\n",
       "    </tr>\n",
       "    <tr>\n",
       "      <th>1</th>\n",
       "      <td>Plot  Area</td>\n",
       "      <td>Chikka Tirupathi</td>\n",
       "      <td>4 Bedroom</td>\n",
       "      <td>2600.0</td>\n",
       "      <td>5.0</td>\n",
       "      <td>120.00</td>\n",
       "      <td>4</td>\n",
       "    </tr>\n",
       "    <tr>\n",
       "      <th>2</th>\n",
       "      <td>Built-up  Area</td>\n",
       "      <td>Uttarahalli</td>\n",
       "      <td>3 BHK</td>\n",
       "      <td>1440.0</td>\n",
       "      <td>2.0</td>\n",
       "      <td>62.00</td>\n",
       "      <td>3</td>\n",
       "    </tr>\n",
       "    <tr>\n",
       "      <th>3</th>\n",
       "      <td>Super built-up  Area</td>\n",
       "      <td>Lingadheeranahalli</td>\n",
       "      <td>3 BHK</td>\n",
       "      <td>1521.0</td>\n",
       "      <td>3.0</td>\n",
       "      <td>95.00</td>\n",
       "      <td>3</td>\n",
       "    </tr>\n",
       "    <tr>\n",
       "      <th>4</th>\n",
       "      <td>Super built-up  Area</td>\n",
       "      <td>Kothanur</td>\n",
       "      <td>2 BHK</td>\n",
       "      <td>1200.0</td>\n",
       "      <td>2.0</td>\n",
       "      <td>51.00</td>\n",
       "      <td>2</td>\n",
       "    </tr>\n",
       "  </tbody>\n",
       "</table>\n",
       "</div>"
      ],
      "text/plain": [
       "              area_type                  location       size  total_sqft  \\\n",
       "0  Super built-up  Area  Electronic City Phase II      2 BHK      1056.0   \n",
       "1            Plot  Area          Chikka Tirupathi  4 Bedroom      2600.0   \n",
       "2        Built-up  Area               Uttarahalli      3 BHK      1440.0   \n",
       "3  Super built-up  Area        Lingadheeranahalli      3 BHK      1521.0   \n",
       "4  Super built-up  Area                  Kothanur      2 BHK      1200.0   \n",
       "\n",
       "   bath   price  bhk  \n",
       "0   2.0   39.07    2  \n",
       "1   5.0  120.00    4  \n",
       "2   2.0   62.00    3  \n",
       "3   3.0   95.00    3  \n",
       "4   2.0   51.00    2  "
      ]
     },
     "execution_count": 471,
     "metadata": {},
     "output_type": "execute_result"
    }
   ],
   "source": [
    "df2.head()"
   ]
  },
  {
   "cell_type": "code",
   "execution_count": 472,
   "metadata": {
    "execution": {
     "iopub.execute_input": "2023-08-10T16:34:32.605809Z",
     "iopub.status.busy": "2023-08-10T16:34:32.605390Z",
     "iopub.status.idle": "2023-08-10T16:34:32.613361Z",
     "shell.execute_reply": "2023-08-10T16:34:32.612177Z",
     "shell.execute_reply.started": "2023-08-10T16:34:32.605773Z"
    }
   },
   "outputs": [],
   "source": [
    "df2['price_per_sqft'] = (df2['price']*100000)/df2['total_sqft']"
   ]
  },
  {
   "cell_type": "code",
   "execution_count": 473,
   "metadata": {
    "execution": {
     "iopub.execute_input": "2023-08-10T16:34:32.664761Z",
     "iopub.status.busy": "2023-08-10T16:34:32.663984Z",
     "iopub.status.idle": "2023-08-10T16:34:32.680454Z",
     "shell.execute_reply": "2023-08-10T16:34:32.679385Z",
     "shell.execute_reply.started": "2023-08-10T16:34:32.664721Z"
    }
   },
   "outputs": [
    {
     "data": {
      "text/html": [
       "<div>\n",
       "<style scoped>\n",
       "    .dataframe tbody tr th:only-of-type {\n",
       "        vertical-align: middle;\n",
       "    }\n",
       "\n",
       "    .dataframe tbody tr th {\n",
       "        vertical-align: top;\n",
       "    }\n",
       "\n",
       "    .dataframe thead th {\n",
       "        text-align: right;\n",
       "    }\n",
       "</style>\n",
       "<table border=\"1\" class=\"dataframe\">\n",
       "  <thead>\n",
       "    <tr style=\"text-align: right;\">\n",
       "      <th></th>\n",
       "      <th>area_type</th>\n",
       "      <th>location</th>\n",
       "      <th>size</th>\n",
       "      <th>total_sqft</th>\n",
       "      <th>bath</th>\n",
       "      <th>price</th>\n",
       "      <th>bhk</th>\n",
       "      <th>price_per_sqft</th>\n",
       "    </tr>\n",
       "  </thead>\n",
       "  <tbody>\n",
       "    <tr>\n",
       "      <th>0</th>\n",
       "      <td>Super built-up  Area</td>\n",
       "      <td>Electronic City Phase II</td>\n",
       "      <td>2 BHK</td>\n",
       "      <td>1056.0</td>\n",
       "      <td>2.0</td>\n",
       "      <td>39.07</td>\n",
       "      <td>2</td>\n",
       "      <td>3699.810606</td>\n",
       "    </tr>\n",
       "    <tr>\n",
       "      <th>1</th>\n",
       "      <td>Plot  Area</td>\n",
       "      <td>Chikka Tirupathi</td>\n",
       "      <td>4 Bedroom</td>\n",
       "      <td>2600.0</td>\n",
       "      <td>5.0</td>\n",
       "      <td>120.00</td>\n",
       "      <td>4</td>\n",
       "      <td>4615.384615</td>\n",
       "    </tr>\n",
       "    <tr>\n",
       "      <th>2</th>\n",
       "      <td>Built-up  Area</td>\n",
       "      <td>Uttarahalli</td>\n",
       "      <td>3 BHK</td>\n",
       "      <td>1440.0</td>\n",
       "      <td>2.0</td>\n",
       "      <td>62.00</td>\n",
       "      <td>3</td>\n",
       "      <td>4305.555556</td>\n",
       "    </tr>\n",
       "    <tr>\n",
       "      <th>3</th>\n",
       "      <td>Super built-up  Area</td>\n",
       "      <td>Lingadheeranahalli</td>\n",
       "      <td>3 BHK</td>\n",
       "      <td>1521.0</td>\n",
       "      <td>3.0</td>\n",
       "      <td>95.00</td>\n",
       "      <td>3</td>\n",
       "      <td>6245.890861</td>\n",
       "    </tr>\n",
       "    <tr>\n",
       "      <th>4</th>\n",
       "      <td>Super built-up  Area</td>\n",
       "      <td>Kothanur</td>\n",
       "      <td>2 BHK</td>\n",
       "      <td>1200.0</td>\n",
       "      <td>2.0</td>\n",
       "      <td>51.00</td>\n",
       "      <td>2</td>\n",
       "      <td>4250.000000</td>\n",
       "    </tr>\n",
       "  </tbody>\n",
       "</table>\n",
       "</div>"
      ],
      "text/plain": [
       "              area_type                  location       size  total_sqft  \\\n",
       "0  Super built-up  Area  Electronic City Phase II      2 BHK      1056.0   \n",
       "1            Plot  Area          Chikka Tirupathi  4 Bedroom      2600.0   \n",
       "2        Built-up  Area               Uttarahalli      3 BHK      1440.0   \n",
       "3  Super built-up  Area        Lingadheeranahalli      3 BHK      1521.0   \n",
       "4  Super built-up  Area                  Kothanur      2 BHK      1200.0   \n",
       "\n",
       "   bath   price  bhk  price_per_sqft  \n",
       "0   2.0   39.07    2     3699.810606  \n",
       "1   5.0  120.00    4     4615.384615  \n",
       "2   2.0   62.00    3     4305.555556  \n",
       "3   3.0   95.00    3     6245.890861  \n",
       "4   2.0   51.00    2     4250.000000  "
      ]
     },
     "execution_count": 473,
     "metadata": {},
     "output_type": "execute_result"
    }
   ],
   "source": [
    "df2.head()"
   ]
  },
  {
   "cell_type": "markdown",
   "metadata": {},
   "source": [
    "Let us explore location column."
   ]
  },
  {
   "cell_type": "code",
   "execution_count": 474,
   "metadata": {
    "execution": {
     "iopub.execute_input": "2023-08-10T16:34:32.720996Z",
     "iopub.status.busy": "2023-08-10T16:34:32.719859Z",
     "iopub.status.idle": "2023-08-10T16:34:32.730472Z",
     "shell.execute_reply": "2023-08-10T16:34:32.729158Z",
     "shell.execute_reply.started": "2023-08-10T16:34:32.720932Z"
    }
   },
   "outputs": [
    {
     "data": {
      "text/plain": [
       "array(['Electronic City Phase II', 'Chikka Tirupathi', 'Uttarahalli', ...,\n",
       "       '12th cross srinivas nagar banshankari 3rd stage',\n",
       "       'Havanur extension', 'Abshot Layout'], dtype=object)"
      ]
     },
     "execution_count": 474,
     "metadata": {},
     "output_type": "execute_result"
    }
   ],
   "source": [
    "df2['location'].unique()"
   ]
  },
  {
   "cell_type": "code",
   "execution_count": 475,
   "metadata": {
    "execution": {
     "iopub.execute_input": "2023-08-10T16:34:32.782357Z",
     "iopub.status.busy": "2023-08-10T16:34:32.781317Z",
     "iopub.status.idle": "2023-08-10T16:34:32.791795Z",
     "shell.execute_reply": "2023-08-10T16:34:32.790557Z",
     "shell.execute_reply.started": "2023-08-10T16:34:32.782305Z"
    }
   },
   "outputs": [
    {
     "data": {
      "text/plain": [
       "1298"
      ]
     },
     "execution_count": 475,
     "metadata": {},
     "output_type": "execute_result"
    }
   ],
   "source": [
    "len(df2['location'].unique())"
   ]
  },
  {
   "cell_type": "markdown",
   "metadata": {},
   "source": [
    "Too many locations to handle."
   ]
  },
  {
   "cell_type": "markdown",
   "metadata": {},
   "source": [
    "First clean up the location column by removing extra spaces."
   ]
  },
  {
   "cell_type": "code",
   "execution_count": 476,
   "metadata": {
    "execution": {
     "iopub.execute_input": "2023-08-10T16:34:32.835122Z",
     "iopub.status.busy": "2023-08-10T16:34:32.834739Z",
     "iopub.status.idle": "2023-08-10T16:34:32.845005Z",
     "shell.execute_reply": "2023-08-10T16:34:32.844040Z",
     "shell.execute_reply.started": "2023-08-10T16:34:32.835091Z"
    }
   },
   "outputs": [],
   "source": [
    "df2['location'] = df2['location'].apply(lambda x:x.strip())"
   ]
  },
  {
   "cell_type": "code",
   "execution_count": 477,
   "metadata": {
    "execution": {
     "iopub.execute_input": "2023-08-10T16:34:32.892720Z",
     "iopub.status.busy": "2023-08-10T16:34:32.892308Z",
     "iopub.status.idle": "2023-08-10T16:34:32.905172Z",
     "shell.execute_reply": "2023-08-10T16:34:32.904016Z",
     "shell.execute_reply.started": "2023-08-10T16:34:32.892689Z"
    }
   },
   "outputs": [
    {
     "data": {
      "text/plain": [
       "Whitefield                   533\n",
       "Sarjapur  Road               392\n",
       "Electronic City              304\n",
       "Kanakpura Road               264\n",
       "Thanisandra                  235\n",
       "                            ... \n",
       "Rajanna Layout                 1\n",
       "Subramanyanagar                1\n",
       "Lakshmipura Vidyaanyapura      1\n",
       "Malur Hosur Road               1\n",
       "Abshot Layout                  1\n",
       "Name: location, Length: 1287, dtype: int64"
      ]
     },
     "execution_count": 477,
     "metadata": {},
     "output_type": "execute_result"
    }
   ],
   "source": [
    "location_stats = df2['location'].value_counts()\n",
    "location_stats"
   ]
  },
  {
   "cell_type": "markdown",
   "metadata": {},
   "source": [
    "Any location with less than 10 data points is called Other."
   ]
  },
  {
   "cell_type": "code",
   "execution_count": 478,
   "metadata": {
    "execution": {
     "iopub.execute_input": "2023-08-10T16:34:32.942821Z",
     "iopub.status.busy": "2023-08-10T16:34:32.942405Z",
     "iopub.status.idle": "2023-08-10T16:34:32.950507Z",
     "shell.execute_reply": "2023-08-10T16:34:32.949407Z",
     "shell.execute_reply.started": "2023-08-10T16:34:32.942787Z"
    }
   },
   "outputs": [
    {
     "data": {
      "text/plain": [
       "1033"
      ]
     },
     "execution_count": 478,
     "metadata": {},
     "output_type": "execute_result"
    }
   ],
   "source": [
    "len(location_stats[location_stats < 10])"
   ]
  },
  {
   "cell_type": "code",
   "execution_count": 479,
   "metadata": {
    "execution": {
     "iopub.execute_input": "2023-08-10T16:34:32.995813Z",
     "iopub.status.busy": "2023-08-10T16:34:32.995385Z",
     "iopub.status.idle": "2023-08-10T16:34:33.006093Z",
     "shell.execute_reply": "2023-08-10T16:34:33.004780Z",
     "shell.execute_reply.started": "2023-08-10T16:34:32.995778Z"
    }
   },
   "outputs": [
    {
     "data": {
      "text/plain": [
       "2nd Phase JP Nagar           9\n",
       "Chandra Layout               9\n",
       "Mathikere                    9\n",
       "Kaverappa Layout             9\n",
       "Peenya                       9\n",
       "                            ..\n",
       "Rajanna Layout               1\n",
       "Subramanyanagar              1\n",
       "Lakshmipura Vidyaanyapura    1\n",
       "Malur Hosur Road             1\n",
       "Abshot Layout                1\n",
       "Name: location, Length: 1033, dtype: int64"
      ]
     },
     "execution_count": 479,
     "metadata": {},
     "output_type": "execute_result"
    }
   ],
   "source": [
    "location_less_than_10 = location_stats[location_stats < 10]\n",
    "\n",
    "location_less_than_10"
   ]
  },
  {
   "cell_type": "code",
   "execution_count": 480,
   "metadata": {
    "execution": {
     "iopub.execute_input": "2023-08-10T16:34:33.050252Z",
     "iopub.status.busy": "2023-08-10T16:34:33.049242Z",
     "iopub.status.idle": "2023-08-10T16:34:33.059810Z",
     "shell.execute_reply": "2023-08-10T16:34:33.058643Z",
     "shell.execute_reply.started": "2023-08-10T16:34:33.050181Z"
    }
   },
   "outputs": [
    {
     "data": {
      "text/plain": [
       "1287"
      ]
     },
     "execution_count": 480,
     "metadata": {},
     "output_type": "execute_result"
    }
   ],
   "source": [
    "len(df2['location'].unique())"
   ]
  },
  {
   "cell_type": "code",
   "execution_count": 481,
   "metadata": {
    "execution": {
     "iopub.execute_input": "2023-08-10T16:34:33.098575Z",
     "iopub.status.busy": "2023-08-10T16:34:33.097684Z",
     "iopub.status.idle": "2023-08-10T16:34:33.148981Z",
     "shell.execute_reply": "2023-08-10T16:34:33.147928Z",
     "shell.execute_reply.started": "2023-08-10T16:34:33.098538Z"
    }
   },
   "outputs": [],
   "source": [
    "df2['location'] = df2['location'].apply(lambda x: \"other\" if x in location_less_than_10 else x)"
   ]
  },
  {
   "cell_type": "code",
   "execution_count": 482,
   "metadata": {
    "execution": {
     "iopub.execute_input": "2023-08-10T16:34:33.152784Z",
     "iopub.status.busy": "2023-08-10T16:34:33.152461Z",
     "iopub.status.idle": "2023-08-10T16:34:33.161281Z",
     "shell.execute_reply": "2023-08-10T16:34:33.160130Z",
     "shell.execute_reply.started": "2023-08-10T16:34:33.152757Z"
    }
   },
   "outputs": [
    {
     "data": {
      "text/plain": [
       "255"
      ]
     },
     "execution_count": 482,
     "metadata": {},
     "output_type": "execute_result"
    }
   ],
   "source": [
    "len(df2['location'].unique())"
   ]
  },
  {
   "cell_type": "markdown",
   "metadata": {},
   "source": [
    "### **Outlier Removal Using Business Logic**"
   ]
  },
  {
   "cell_type": "markdown",
   "metadata": {},
   "source": [
    "As we saw before, there are outliers in bhk column. The sqft per bedroom is usually above 300 sqft so anything less than that is an outlier."
   ]
  },
  {
   "cell_type": "code",
   "execution_count": 483,
   "metadata": {
    "execution": {
     "iopub.execute_input": "2023-08-10T16:34:33.212099Z",
     "iopub.status.busy": "2023-08-10T16:34:33.210927Z",
     "iopub.status.idle": "2023-08-10T16:34:33.232110Z",
     "shell.execute_reply": "2023-08-10T16:34:33.230898Z",
     "shell.execute_reply.started": "2023-08-10T16:34:33.212056Z"
    }
   },
   "outputs": [
    {
     "data": {
      "text/html": [
       "<div>\n",
       "<style scoped>\n",
       "    .dataframe tbody tr th:only-of-type {\n",
       "        vertical-align: middle;\n",
       "    }\n",
       "\n",
       "    .dataframe tbody tr th {\n",
       "        vertical-align: top;\n",
       "    }\n",
       "\n",
       "    .dataframe thead th {\n",
       "        text-align: right;\n",
       "    }\n",
       "</style>\n",
       "<table border=\"1\" class=\"dataframe\">\n",
       "  <thead>\n",
       "    <tr style=\"text-align: right;\">\n",
       "      <th></th>\n",
       "      <th>area_type</th>\n",
       "      <th>location</th>\n",
       "      <th>size</th>\n",
       "      <th>total_sqft</th>\n",
       "      <th>bath</th>\n",
       "      <th>price</th>\n",
       "      <th>bhk</th>\n",
       "      <th>price_per_sqft</th>\n",
       "    </tr>\n",
       "  </thead>\n",
       "  <tbody>\n",
       "    <tr>\n",
       "      <th>9</th>\n",
       "      <td>Plot  Area</td>\n",
       "      <td>other</td>\n",
       "      <td>6 Bedroom</td>\n",
       "      <td>1020.0</td>\n",
       "      <td>6.0</td>\n",
       "      <td>370.0</td>\n",
       "      <td>6</td>\n",
       "      <td>36274.509804</td>\n",
       "    </tr>\n",
       "    <tr>\n",
       "      <th>45</th>\n",
       "      <td>Plot  Area</td>\n",
       "      <td>HSR Layout</td>\n",
       "      <td>8 Bedroom</td>\n",
       "      <td>600.0</td>\n",
       "      <td>9.0</td>\n",
       "      <td>200.0</td>\n",
       "      <td>8</td>\n",
       "      <td>33333.333333</td>\n",
       "    </tr>\n",
       "    <tr>\n",
       "      <th>58</th>\n",
       "      <td>Plot  Area</td>\n",
       "      <td>Murugeshpalya</td>\n",
       "      <td>6 Bedroom</td>\n",
       "      <td>1407.0</td>\n",
       "      <td>4.0</td>\n",
       "      <td>150.0</td>\n",
       "      <td>6</td>\n",
       "      <td>10660.980810</td>\n",
       "    </tr>\n",
       "    <tr>\n",
       "      <th>68</th>\n",
       "      <td>Plot  Area</td>\n",
       "      <td>Devarachikkanahalli</td>\n",
       "      <td>8 Bedroom</td>\n",
       "      <td>1350.0</td>\n",
       "      <td>7.0</td>\n",
       "      <td>85.0</td>\n",
       "      <td>8</td>\n",
       "      <td>6296.296296</td>\n",
       "    </tr>\n",
       "    <tr>\n",
       "      <th>70</th>\n",
       "      <td>Plot  Area</td>\n",
       "      <td>other</td>\n",
       "      <td>3 Bedroom</td>\n",
       "      <td>500.0</td>\n",
       "      <td>3.0</td>\n",
       "      <td>100.0</td>\n",
       "      <td>3</td>\n",
       "      <td>20000.000000</td>\n",
       "    </tr>\n",
       "  </tbody>\n",
       "</table>\n",
       "</div>"
      ],
      "text/plain": [
       "     area_type             location       size  total_sqft  bath  price  bhk  \\\n",
       "9   Plot  Area                other  6 Bedroom      1020.0   6.0  370.0    6   \n",
       "45  Plot  Area           HSR Layout  8 Bedroom       600.0   9.0  200.0    8   \n",
       "58  Plot  Area        Murugeshpalya  6 Bedroom      1407.0   4.0  150.0    6   \n",
       "68  Plot  Area  Devarachikkanahalli  8 Bedroom      1350.0   7.0   85.0    8   \n",
       "70  Plot  Area                other  3 Bedroom       500.0   3.0  100.0    3   \n",
       "\n",
       "    price_per_sqft  \n",
       "9     36274.509804  \n",
       "45    33333.333333  \n",
       "58    10660.980810  \n",
       "68     6296.296296  \n",
       "70    20000.000000  "
      ]
     },
     "execution_count": 483,
     "metadata": {},
     "output_type": "execute_result"
    }
   ],
   "source": [
    "df2[df2['total_sqft']/df2['bhk']<300].head()"
   ]
  },
  {
   "cell_type": "code",
   "execution_count": 484,
   "metadata": {
    "execution": {
     "iopub.execute_input": "2023-08-10T16:34:33.264259Z",
     "iopub.status.busy": "2023-08-10T16:34:33.263060Z",
     "iopub.status.idle": "2023-08-10T16:34:33.274664Z",
     "shell.execute_reply": "2023-08-10T16:34:33.273634Z",
     "shell.execute_reply.started": "2023-08-10T16:34:33.264193Z"
    }
   },
   "outputs": [
    {
     "data": {
      "text/plain": [
       "(12456, 8)"
      ]
     },
     "execution_count": 484,
     "metadata": {},
     "output_type": "execute_result"
    }
   ],
   "source": [
    "df3 = df2[~(df2['total_sqft']/df2['bhk']<300)]\n",
    "df3.shape"
   ]
  },
  {
   "cell_type": "markdown",
   "metadata": {},
   "source": [
    "### **Outlier Removal Using Standard Deviation and Mean**"
   ]
  },
  {
   "cell_type": "code",
   "execution_count": 485,
   "metadata": {
    "execution": {
     "iopub.execute_input": "2023-08-10T16:34:33.318036Z",
     "iopub.status.busy": "2023-08-10T16:34:33.316713Z",
     "iopub.status.idle": "2023-08-10T16:34:33.330987Z",
     "shell.execute_reply": "2023-08-10T16:34:33.329561Z",
     "shell.execute_reply.started": "2023-08-10T16:34:33.317983Z"
    }
   },
   "outputs": [
    {
     "data": {
      "text/plain": [
       "count     12456.000000\n",
       "mean       6308.502826\n",
       "std        4168.127339\n",
       "min         267.829813\n",
       "25%        4210.526316\n",
       "50%        5294.117647\n",
       "75%        6916.666667\n",
       "max      176470.588235\n",
       "Name: price_per_sqft, dtype: float64"
      ]
     },
     "execution_count": 485,
     "metadata": {},
     "output_type": "execute_result"
    }
   ],
   "source": [
    "df3.price_per_sqft.describe()"
   ]
  },
  {
   "cell_type": "markdown",
   "metadata": {},
   "source": [
    "In Bangalore its very unlikely to get a a sqft area with 267Rs. The max value is over 17 lakh, even though this can be possible since we are building a generic model it is good to remove it."
   ]
  },
  {
   "cell_type": "code",
   "execution_count": 486,
   "metadata": {
    "execution": {
     "iopub.execute_input": "2023-08-10T16:34:33.368839Z",
     "iopub.status.busy": "2023-08-10T16:34:33.367826Z",
     "iopub.status.idle": "2023-08-10T16:34:33.819074Z",
     "shell.execute_reply": "2023-08-10T16:34:33.817807Z",
     "shell.execute_reply.started": "2023-08-10T16:34:33.368799Z"
    }
   },
   "outputs": [
    {
     "data": {
      "image/png": "[encoded data removed]",
      "text/plain": [
       "<Figure size 1000x600 with 1 Axes>"
      ]
     },
     "metadata": {},
     "output_type": "display_data"
    }
   ],
   "source": [
    "plt.figure(figsize=(10,6))\n",
    "plt.hist(df3[\"price_per_sqft\"],bins=100)\n",
    "plt.title(\"Distribution of Price_Per_Sqft\")\n",
    "plt.show()"
   ]
  },
  {
   "cell_type": "markdown",
   "metadata": {},
   "source": [
    "I am considering anything above or below 1 standard deviation as outlier. I need to group by location since each location has different price range."
   ]
  },
  {
   "cell_type": "code",
   "execution_count": 487,
   "metadata": {
    "execution": {
     "iopub.execute_input": "2023-08-10T16:34:33.822134Z",
     "iopub.status.busy": "2023-08-10T16:34:33.821349Z",
     "iopub.status.idle": "2023-08-10T16:34:33.829334Z",
     "shell.execute_reply": "2023-08-10T16:34:33.827973Z",
     "shell.execute_reply.started": "2023-08-10T16:34:33.822084Z"
    }
   },
   "outputs": [],
   "source": [
    "def remove_pps_outliers(df):\n",
    "    df_out = pd.DataFrame()\n",
    "    for key,i in df3.groupby('location'):\n",
    "         m = np.mean(i.price_per_sqft)\n",
    "         sd = np.std(i.price_per_sqft)\n",
    "         reduce_df = i[((i.price_per_sqft > (m-sd)) & (i.price_per_sqft < (m+sd)))]\n",
    "         df_out = pd.concat([df_out,reduce_df], ignore_index = True)\n",
    "    return df_out\n",
    "   \n",
    "    \n"
   ]
  },
  {
   "cell_type": "code",
   "execution_count": 488,
   "metadata": {
    "execution": {
     "iopub.execute_input": "2023-08-10T16:34:33.831160Z",
     "iopub.status.busy": "2023-08-10T16:34:33.830750Z",
     "iopub.status.idle": "2023-08-10T16:34:34.310032Z",
     "shell.execute_reply": "2023-08-10T16:34:34.308804Z",
     "shell.execute_reply.started": "2023-08-10T16:34:33.831056Z"
    }
   },
   "outputs": [
    {
     "data": {
      "text/plain": [
       "count    10222.000000\n",
       "mean      5667.702604\n",
       "std       2293.652818\n",
       "min       1250.000000\n",
       "25%       4249.118840\n",
       "50%       5175.792088\n",
       "75%       6428.571429\n",
       "max      24509.803922\n",
       "Name: price_per_sqft, dtype: float64"
      ]
     },
     "execution_count": 488,
     "metadata": {},
     "output_type": "execute_result"
    }
   ],
   "source": [
    "df4 = remove_pps_outliers(df3)\n",
    "df4.price_per_sqft.describe()"
   ]
  },
  {
   "cell_type": "code",
   "execution_count": 489,
   "metadata": {
    "execution": {
     "iopub.execute_input": "2023-08-10T16:34:34.314156Z",
     "iopub.status.busy": "2023-08-10T16:34:34.313111Z",
     "iopub.status.idle": "2023-08-10T16:34:34.322340Z",
     "shell.execute_reply": "2023-08-10T16:34:34.321079Z",
     "shell.execute_reply.started": "2023-08-10T16:34:34.314104Z"
    }
   },
   "outputs": [
    {
     "data": {
      "text/plain": [
       "(10222, 8)"
      ]
     },
     "execution_count": 489,
     "metadata": {},
     "output_type": "execute_result"
    }
   ],
   "source": [
    "df4.shape"
   ]
  },
  {
   "cell_type": "markdown",
   "metadata": {},
   "source": [
    "Let's check if for a given location how does the 2 BHK and 3 BHK property prices look like"
   ]
  },
  {
   "cell_type": "code",
   "execution_count": 490,
   "metadata": {
    "execution": {
     "iopub.execute_input": "2023-08-10T16:34:34.324510Z",
     "iopub.status.busy": "2023-08-10T16:34:34.324107Z",
     "iopub.status.idle": "2023-08-10T16:34:34.333082Z",
     "shell.execute_reply": "2023-08-10T16:34:34.332008Z",
     "shell.execute_reply.started": "2023-08-10T16:34:34.324479Z"
    }
   },
   "outputs": [],
   "source": [
    "def scatter_plot(df,location):\n",
    "    bhk2 = df4[(df4.location == location) & (df4.bhk == 2)]\n",
    "    bhk3 = df4[(df4.location == location) & (df4.bhk == 3)]\n",
    "    matplotlib.rcParams['figure.figsize'] = (15,10)\n",
    "    plt.scatter(bhk2.total_sqft , bhk2.price, color = 'red', label = '2BHK', s= 50)\n",
    "    plt.scatter(bhk3.total_sqft, bhk3.price, color = 'green', marker = '*', label = '3BHK', s = 50)\n",
    "    plt.xlabel('Total Sqft Area')\n",
    "    plt.ylabel(\"Price(in Lakh Rupees)\")\n",
    "    plt.title(location)\n",
    "    plt.legend()\n",
    "    plt.show()\n",
    "    \n"
   ]
  },
  {
   "cell_type": "code",
   "execution_count": 491,
   "metadata": {
    "execution": {
     "iopub.execute_input": "2023-08-10T16:34:34.336262Z",
     "iopub.status.busy": "2023-08-10T16:34:34.335702Z",
     "iopub.status.idle": "2023-08-10T16:34:34.349429Z",
     "shell.execute_reply": "2023-08-10T16:34:34.348426Z",
     "shell.execute_reply.started": "2023-08-10T16:34:34.336219Z"
    }
   },
   "outputs": [
    {
     "data": {
      "text/plain": [
       "array(['1st Block Jayanagar', '1st Block Koramangala',\n",
       "       '1st Phase JP Nagar', '2nd Phase Judicial Layout',\n",
       "       '2nd Stage Nagarbhavi', '5th Block Hbr Layout',\n",
       "       '5th Phase JP Nagar', '6th Phase JP Nagar', '7th Phase JP Nagar',\n",
       "       '8th Phase JP Nagar', '9th Phase JP Nagar', 'AECS Layout',\n",
       "       'Abbigere', 'Akshaya Nagar', 'Ambalipura', 'Ambedkar Nagar',\n",
       "       'Amruthahalli', 'Anandapura', 'Ananth Nagar', 'Anekal',\n",
       "       'Anjanapura', 'Ardendale', 'Arekere', 'Attibele', 'BEML Layout',\n",
       "       'BTM 1st Stage', 'BTM 2nd Stage', 'BTM Layout', 'Babusapalaya',\n",
       "       'Badavala Nagar', 'Balagere', 'Banashankari',\n",
       "       'Banashankari Stage II', 'Banashankari Stage III',\n",
       "       'Banashankari Stage V', 'Banashankari Stage VI', 'Banaswadi',\n",
       "       'Banjara Layout', 'Bannerghatta', 'Bannerghatta Road', 'Basapura',\n",
       "       'Basavangudi', 'Basaveshwara Nagar', 'Battarahalli', 'Begur',\n",
       "       'Begur Road', 'Bellandur', 'Benson Town', 'Bharathi Nagar',\n",
       "       'Bhoganhalli', 'Billekahalli', 'Binny Pete', 'Bisuvanahalli',\n",
       "       'Bommanahalli', 'Bommasandra', 'Bommasandra Industrial Area',\n",
       "       'Bommenahalli', 'Brookefield', 'Budigere', 'CV Raman Nagar',\n",
       "       'Chamrajpet', 'Chandapura', 'Channasandra', 'Chikka Tirupathi',\n",
       "       'Chikkabanavar', 'Chikkalasandra', 'Choodasandra', 'Cooke Town',\n",
       "       'Cox Town', 'Cunningham Road', 'Dairy Circle', 'Dasanapura',\n",
       "       'Dasarahalli', 'Devanahalli', 'Devarachikkanahalli',\n",
       "       'Dodda Nekkundi', 'Doddaballapur', 'Doddakallasandra',\n",
       "       'Doddathoguru', 'Dodsworth Layout', 'Domlur', 'Dommasandra',\n",
       "       'EPIP Zone', 'Electronic City', 'Electronic City Phase II',\n",
       "       'Electronics City Phase 1', 'Frazer Town', 'GM Palaya',\n",
       "       'Ganga Nagar', 'Garudachar Palya', 'Giri Nagar',\n",
       "       'Gollarapalya Hosahalli', 'Gottigere', 'Green Glen Layout',\n",
       "       'Gubbalala', 'Gunjur', 'Gunjur Palya', 'HAL 2nd Stage',\n",
       "       'HBR Layout', 'HRBR Layout', 'HSR Layout', 'Haralur Road',\n",
       "       'Harlur', 'Hebbal', 'Hebbal Kempapura', 'Hegde Nagar', 'Hennur',\n",
       "       'Hennur Road', 'Hoodi', 'Horamavu Agara', 'Horamavu Banaswadi',\n",
       "       'Hormavu', 'Hosa Road', 'Hosakerehalli', 'Hoskote', 'Hosur Road',\n",
       "       'Hulimavu', 'ISRO Layout', 'ITPL', 'Iblur Village', 'Indira Nagar',\n",
       "       'JP Nagar', 'Jakkur', 'Jalahalli', 'Jalahalli East', 'Jigani',\n",
       "       'Judicial Layout', 'KR Puram', 'Kadubeesanahalli', 'Kadugodi',\n",
       "       'Kaggadasapura', 'Kaggalipura', 'Kaikondrahalli',\n",
       "       'Kalena Agrahara', 'Kalkere', 'Kalyan nagar', 'Kambipura',\n",
       "       'Kammanahalli', 'Kammasandra', 'Kanakapura', 'Kanakpura Road',\n",
       "       'Kannamangala', 'Karuna Nagar', 'Kasavanhalli', 'Kasturi Nagar',\n",
       "       'Kathriguppe', 'Kaval Byrasandra', 'Kenchenahalli', 'Kengeri',\n",
       "       'Kengeri Satellite Town', 'Kereguddadahalli', 'Kodichikkanahalli',\n",
       "       'Kodigehaali', 'Kodigehalli', 'Kodihalli', 'Kogilu', 'Konanakunte',\n",
       "       'Koramangala', 'Kothannur', 'Kothanur', 'Kudlu', 'Kudlu Gate',\n",
       "       'Kumaraswami Layout', 'Kundalahalli', 'LB Shastri Nagar',\n",
       "       'Laggere', 'Lakshminarayana Pura', 'Lingadheeranahalli',\n",
       "       'Magadi Road', 'Mahadevpura', 'Mahalakshmi Layout', 'Mallasandra',\n",
       "       'Malleshpalya', 'Malleshwaram', 'Marathahalli', 'Margondanahalli',\n",
       "       'Marsur', 'Mico Layout', 'Munnekollal', 'Murugeshpalya',\n",
       "       'Mysore Road', 'NGR Layout', 'NRI Layout', 'Nagadevanahalli',\n",
       "       'Naganathapura', 'Nagappa Reddy Layout', 'Nagarbhavi',\n",
       "       'Nagasandra', 'Nagavara', 'Nagavarapalya', 'Narayanapura',\n",
       "       'Neeladri Nagar', 'Nehru Nagar', 'OMBR Layout', 'Old Airport Road',\n",
       "       'Old Madras Road', 'Padmanabhanagar', 'Pai Layout', 'Panathur',\n",
       "       'Parappana Agrahara', 'Pattandur Agrahara', 'Poorna Pragna Layout',\n",
       "       'Prithvi Layout', 'R.T. Nagar', 'Rachenahalli',\n",
       "       'Raja Rajeshwari Nagar', 'Rajaji Nagar', 'Rajiv Nagar',\n",
       "       'Ramagondanahalli', 'Ramamurthy Nagar', 'Rayasandra',\n",
       "       'Sadashiva Nagar', 'Sahakara Nagar', 'Sanjay nagar',\n",
       "       'Sarakki Nagar', 'Sarjapur', 'Sarjapur  Road',\n",
       "       'Sarjapura - Attibele Road', 'Sector 1 HSR Layout',\n",
       "       'Sector 2 HSR Layout', 'Sector 7 HSR Layout', 'Seegehalli',\n",
       "       'Shampura', 'Shivaji Nagar', 'Singasandra', 'Somasundara Palya',\n",
       "       'Sompura', 'Sonnenahalli', 'Subramanyapura', 'Sultan Palaya',\n",
       "       'TC Palaya', 'Talaghattapura', 'Thanisandra', 'Thigalarapalya',\n",
       "       'Thubarahalli', 'Thyagaraja Nagar', 'Tindlu', 'Tumkur Road',\n",
       "       'Ulsoor', 'Uttarahalli', 'Varthur', 'Varthur Road', 'Vasanthapura',\n",
       "       'Vidyaranyapura', 'Vijayanagar', 'Vishveshwarya Layout',\n",
       "       'Vishwapriya Layout', 'Vittasandra', 'Whitefield',\n",
       "       'Yelachenahalli', 'Yelahanka', 'Yelahanka New Town', 'Yelenahalli',\n",
       "       'Yeshwanthpur', 'other'], dtype=object)"
      ]
     },
     "execution_count": 491,
     "metadata": {},
     "output_type": "execute_result"
    }
   ],
   "source": [
    "df4.location.unique()"
   ]
  },
  {
   "cell_type": "code",
   "execution_count": 492,
   "metadata": {
    "execution": {
     "iopub.execute_input": "2023-08-10T16:34:34.350991Z",
     "iopub.status.busy": "2023-08-10T16:34:34.350674Z",
     "iopub.status.idle": "2023-08-10T16:34:34.712869Z",
     "shell.execute_reply": "2023-08-10T16:34:34.711775Z",
     "shell.execute_reply.started": "2023-08-10T16:34:34.350964Z"
    }
   },
   "outputs": [
    {
     "data": {
      "image/png": "[encoded data removed]",
      "text/plain": [
       "<Figure size 1000x600 with 1 Axes>"
      ]
     },
     "metadata": {},
     "output_type": "display_data"
    }
   ],
   "source": [
    "plt.figure(figsize=(10,6))\n",
    "scatter_plot(df4,'Hebbal')"
   ]
  },
  {
   "cell_type": "code",
   "execution_count": 493,
   "metadata": {
    "execution": {
     "iopub.execute_input": "2023-08-10T16:34:34.714733Z",
     "iopub.status.busy": "2023-08-10T16:34:34.714396Z",
     "iopub.status.idle": "2023-08-10T16:34:35.078032Z",
     "shell.execute_reply": "2023-08-10T16:34:35.076948Z",
     "shell.execute_reply.started": "2023-08-10T16:34:34.714702Z"
    }
   },
   "outputs": [
    {
     "data": {
      "image/png": "[encoded data removed]",
      "text/plain": [
       "<Figure size 1000x600 with 1 Axes>"
      ]
     },
     "metadata": {},
     "output_type": "display_data"
    }
   ],
   "source": [
    "plt.figure(figsize=(10,6))\n",
    "scatter_plot(df4,'Rajaji Nagar')"
   ]
  },
  {
   "cell_type": "markdown",
   "metadata": {},
   "source": [
    "As we can see from the scatter plot certain 3bhk homes have less price than 2bhk homes for the same location and area. This is a mismatch and such values should be removed."
   ]
  },
  {
   "cell_type": "code",
   "execution_count": 494,
   "metadata": {
    "execution": {
     "iopub.execute_input": "2023-08-10T16:34:35.080366Z",
     "iopub.status.busy": "2023-08-10T16:34:35.079930Z",
     "iopub.status.idle": "2023-08-10T16:34:35.089023Z",
     "shell.execute_reply": "2023-08-10T16:34:35.087909Z",
     "shell.execute_reply.started": "2023-08-10T16:34:35.080324Z"
    }
   },
   "outputs": [],
   "source": [
    "def remove_bhk_outliers(df):\n",
    "    exclude_indices = np.array([])\n",
    "    for location, location_df in df.groupby('location'):\n",
    "        bhk_stats = {}\n",
    "        for bhk, bhk_df in location_df.groupby('bhk'):\n",
    "            bhk_stats[bhk] = {\n",
    "                'mean': np.mean(bhk_df.price_per_sqft),\n",
    "                'std': np.std(bhk_df.price_per_sqft),\n",
    "                'count': bhk_df.shape[0]\n",
    "            }\n",
    "        for bhk, bhk_df in location_df.groupby('bhk'):\n",
    "            stats = bhk_stats.get(bhk-1)\n",
    "            if stats and stats['count']>5:\n",
    "                exclude_indices = np.append(exclude_indices, bhk_df[bhk_df.price_per_sqft<(stats['mean'])].index.values)\n",
    "    return df.drop(exclude_indices,axis='index')"
   ]
  },
  {
   "cell_type": "code",
   "execution_count": 495,
   "metadata": {
    "execution": {
     "iopub.execute_input": "2023-08-10T16:34:35.093791Z",
     "iopub.status.busy": "2023-08-10T16:34:35.093493Z",
     "iopub.status.idle": "2023-08-10T16:34:35.862733Z",
     "shell.execute_reply": "2023-08-10T16:34:35.861616Z",
     "shell.execute_reply.started": "2023-08-10T16:34:35.093763Z"
    }
   },
   "outputs": [
    {
     "data": {
      "text/plain": [
       "(7369, 8)"
      ]
     },
     "execution_count": 495,
     "metadata": {},
     "output_type": "execute_result"
    }
   ],
   "source": [
    "df5 = remove_bhk_outliers(df4)\n",
    "df5.shape"
   ]
  },
  {
   "cell_type": "code",
   "execution_count": 496,
   "metadata": {
    "execution": {
     "iopub.execute_input": "2023-08-10T16:34:35.864100Z",
     "iopub.status.busy": "2023-08-10T16:34:35.863742Z",
     "iopub.status.idle": "2023-08-10T16:34:35.887069Z",
     "shell.execute_reply": "2023-08-10T16:34:35.885891Z",
     "shell.execute_reply.started": "2023-08-10T16:34:35.864072Z"
    }
   },
   "outputs": [
    {
     "data": {
      "text/html": [
       "<div>\n",
       "<style scoped>\n",
       "    .dataframe tbody tr th:only-of-type {\n",
       "        vertical-align: middle;\n",
       "    }\n",
       "\n",
       "    .dataframe tbody tr th {\n",
       "        vertical-align: top;\n",
       "    }\n",
       "\n",
       "    .dataframe thead th {\n",
       "        text-align: right;\n",
       "    }\n",
       "</style>\n",
       "<table border=\"1\" class=\"dataframe\">\n",
       "  <thead>\n",
       "    <tr style=\"text-align: right;\">\n",
       "      <th></th>\n",
       "      <th>area_type</th>\n",
       "      <th>location</th>\n",
       "      <th>size</th>\n",
       "      <th>total_sqft</th>\n",
       "      <th>bath</th>\n",
       "      <th>price</th>\n",
       "      <th>bhk</th>\n",
       "      <th>price_per_sqft</th>\n",
       "    </tr>\n",
       "  </thead>\n",
       "  <tbody>\n",
       "    <tr>\n",
       "      <th>0</th>\n",
       "      <td>Super built-up  Area</td>\n",
       "      <td>1st Block Jayanagar</td>\n",
       "      <td>4 BHK</td>\n",
       "      <td>2850.0</td>\n",
       "      <td>4.0</td>\n",
       "      <td>428.0</td>\n",
       "      <td>4</td>\n",
       "      <td>15017.543860</td>\n",
       "    </tr>\n",
       "    <tr>\n",
       "      <th>1</th>\n",
       "      <td>Super built-up  Area</td>\n",
       "      <td>1st Block Jayanagar</td>\n",
       "      <td>3 BHK</td>\n",
       "      <td>1630.0</td>\n",
       "      <td>3.0</td>\n",
       "      <td>194.0</td>\n",
       "      <td>3</td>\n",
       "      <td>11901.840491</td>\n",
       "    </tr>\n",
       "    <tr>\n",
       "      <th>2</th>\n",
       "      <td>Super built-up  Area</td>\n",
       "      <td>1st Block Jayanagar</td>\n",
       "      <td>3 BHK</td>\n",
       "      <td>1875.0</td>\n",
       "      <td>2.0</td>\n",
       "      <td>235.0</td>\n",
       "      <td>3</td>\n",
       "      <td>12533.333333</td>\n",
       "    </tr>\n",
       "    <tr>\n",
       "      <th>3</th>\n",
       "      <td>Built-up  Area</td>\n",
       "      <td>1st Block Jayanagar</td>\n",
       "      <td>3 BHK</td>\n",
       "      <td>1200.0</td>\n",
       "      <td>2.0</td>\n",
       "      <td>130.0</td>\n",
       "      <td>3</td>\n",
       "      <td>10833.333333</td>\n",
       "    </tr>\n",
       "    <tr>\n",
       "      <th>4</th>\n",
       "      <td>Super built-up  Area</td>\n",
       "      <td>1st Block Jayanagar</td>\n",
       "      <td>2 BHK</td>\n",
       "      <td>1235.0</td>\n",
       "      <td>2.0</td>\n",
       "      <td>148.0</td>\n",
       "      <td>2</td>\n",
       "      <td>11983.805668</td>\n",
       "    </tr>\n",
       "    <tr>\n",
       "      <th>...</th>\n",
       "      <td>...</td>\n",
       "      <td>...</td>\n",
       "      <td>...</td>\n",
       "      <td>...</td>\n",
       "      <td>...</td>\n",
       "      <td>...</td>\n",
       "      <td>...</td>\n",
       "      <td>...</td>\n",
       "    </tr>\n",
       "    <tr>\n",
       "      <th>10213</th>\n",
       "      <td>Carpet  Area</td>\n",
       "      <td>other</td>\n",
       "      <td>2 BHK</td>\n",
       "      <td>1200.0</td>\n",
       "      <td>2.0</td>\n",
       "      <td>70.0</td>\n",
       "      <td>2</td>\n",
       "      <td>5833.333333</td>\n",
       "    </tr>\n",
       "    <tr>\n",
       "      <th>10214</th>\n",
       "      <td>Super built-up  Area</td>\n",
       "      <td>other</td>\n",
       "      <td>1 BHK</td>\n",
       "      <td>1800.0</td>\n",
       "      <td>1.0</td>\n",
       "      <td>200.0</td>\n",
       "      <td>1</td>\n",
       "      <td>11111.111111</td>\n",
       "    </tr>\n",
       "    <tr>\n",
       "      <th>10217</th>\n",
       "      <td>Super built-up  Area</td>\n",
       "      <td>other</td>\n",
       "      <td>2 BHK</td>\n",
       "      <td>1353.0</td>\n",
       "      <td>2.0</td>\n",
       "      <td>110.0</td>\n",
       "      <td>2</td>\n",
       "      <td>8130.081301</td>\n",
       "    </tr>\n",
       "    <tr>\n",
       "      <th>10218</th>\n",
       "      <td>Plot  Area</td>\n",
       "      <td>other</td>\n",
       "      <td>1 Bedroom</td>\n",
       "      <td>812.0</td>\n",
       "      <td>1.0</td>\n",
       "      <td>26.0</td>\n",
       "      <td>1</td>\n",
       "      <td>3201.970443</td>\n",
       "    </tr>\n",
       "    <tr>\n",
       "      <th>10221</th>\n",
       "      <td>Super built-up  Area</td>\n",
       "      <td>other</td>\n",
       "      <td>4 BHK</td>\n",
       "      <td>3600.0</td>\n",
       "      <td>5.0</td>\n",
       "      <td>400.0</td>\n",
       "      <td>4</td>\n",
       "      <td>11111.111111</td>\n",
       "    </tr>\n",
       "  </tbody>\n",
       "</table>\n",
       "<p>7369 rows × 8 columns</p>\n",
       "</div>"
      ],
      "text/plain": [
       "                  area_type             location       size  total_sqft  bath  \\\n",
       "0      Super built-up  Area  1st Block Jayanagar      4 BHK      2850.0   4.0   \n",
       "1      Super built-up  Area  1st Block Jayanagar      3 BHK      1630.0   3.0   \n",
       "2      Super built-up  Area  1st Block Jayanagar      3 BHK      1875.0   2.0   \n",
       "3            Built-up  Area  1st Block Jayanagar      3 BHK      1200.0   2.0   \n",
       "4      Super built-up  Area  1st Block Jayanagar      2 BHK      1235.0   2.0   \n",
       "...                     ...                  ...        ...         ...   ...   \n",
       "10213          Carpet  Area                other      2 BHK      1200.0   2.0   \n",
       "10214  Super built-up  Area                other      1 BHK      1800.0   1.0   \n",
       "10217  Super built-up  Area                other      2 BHK      1353.0   2.0   \n",
       "10218            Plot  Area                other  1 Bedroom       812.0   1.0   \n",
       "10221  Super built-up  Area                other      4 BHK      3600.0   5.0   \n",
       "\n",
       "       price  bhk  price_per_sqft  \n",
       "0      428.0    4    15017.543860  \n",
       "1      194.0    3    11901.840491  \n",
       "2      235.0    3    12533.333333  \n",
       "3      130.0    3    10833.333333  \n",
       "4      148.0    2    11983.805668  \n",
       "...      ...  ...             ...  \n",
       "10213   70.0    2     5833.333333  \n",
       "10214  200.0    1    11111.111111  \n",
       "10217  110.0    2     8130.081301  \n",
       "10218   26.0    1     3201.970443  \n",
       "10221  400.0    4    11111.111111  \n",
       "\n",
       "[7369 rows x 8 columns]"
      ]
     },
     "execution_count": 496,
     "metadata": {},
     "output_type": "execute_result"
    }
   ],
   "source": [
    "df5"
   ]
  },
  {
   "cell_type": "code",
   "execution_count": 497,
   "metadata": {
    "execution": {
     "iopub.execute_input": "2023-08-10T16:34:35.888915Z",
     "iopub.status.busy": "2023-08-10T16:34:35.888603Z",
     "iopub.status.idle": "2023-08-10T16:34:36.165104Z",
     "shell.execute_reply": "2023-08-10T16:34:36.163935Z",
     "shell.execute_reply.started": "2023-08-10T16:34:35.888887Z"
    }
   },
   "outputs": [
    {
     "data": {
      "image/png": "[encoded data removed]",
      "text/plain": [
       "<Figure size 1000x600 with 1 Axes>"
      ]
     },
     "metadata": {},
     "output_type": "display_data"
    }
   ],
   "source": [
    "plt.figure(figsize=(10,6))\n",
    "plt.hist(df5['price_per_sqft'], rwidth = 0.8)\n",
    "plt.xlabel('PricePer_Sqft')\n",
    "plt.ylabel('Count')\n",
    "plt.show()"
   ]
  },
  {
   "cell_type": "markdown",
   "metadata": {},
   "source": [
    "### **Outlier Removal Using Bathrooms Feature**"
   ]
  },
  {
   "cell_type": "code",
   "execution_count": 498,
   "metadata": {
    "execution": {
     "iopub.execute_input": "2023-08-10T16:34:36.167378Z",
     "iopub.status.busy": "2023-08-10T16:34:36.166923Z",
     "iopub.status.idle": "2023-08-10T16:34:36.177241Z",
     "shell.execute_reply": "2023-08-10T16:34:36.176186Z",
     "shell.execute_reply.started": "2023-08-10T16:34:36.167338Z"
    }
   },
   "outputs": [
    {
     "data": {
      "text/plain": [
       "array([ 4.,  3.,  2.,  5.,  8.,  1.,  6., 14.,  7.,  9., 12., 16., 13.])"
      ]
     },
     "execution_count": 498,
     "metadata": {},
     "output_type": "execute_result"
    }
   ],
   "source": [
    "df5.bath.unique()"
   ]
  },
  {
   "cell_type": "code",
   "execution_count": 499,
   "metadata": {
    "execution": {
     "iopub.execute_input": "2023-08-10T16:34:36.179063Z",
     "iopub.status.busy": "2023-08-10T16:34:36.178674Z",
     "iopub.status.idle": "2023-08-10T16:34:36.199689Z",
     "shell.execute_reply": "2023-08-10T16:34:36.198887Z",
     "shell.execute_reply.started": "2023-08-10T16:34:36.179032Z"
    }
   },
   "outputs": [
    {
     "data": {
      "text/html": [
       "<div>\n",
       "<style scoped>\n",
       "    .dataframe tbody tr th:only-of-type {\n",
       "        vertical-align: middle;\n",
       "    }\n",
       "\n",
       "    .dataframe tbody tr th {\n",
       "        vertical-align: top;\n",
       "    }\n",
       "\n",
       "    .dataframe thead th {\n",
       "        text-align: right;\n",
       "    }\n",
       "</style>\n",
       "<table border=\"1\" class=\"dataframe\">\n",
       "  <thead>\n",
       "    <tr style=\"text-align: right;\">\n",
       "      <th></th>\n",
       "      <th>area_type</th>\n",
       "      <th>location</th>\n",
       "      <th>size</th>\n",
       "      <th>total_sqft</th>\n",
       "      <th>bath</th>\n",
       "      <th>price</th>\n",
       "      <th>bhk</th>\n",
       "      <th>price_per_sqft</th>\n",
       "    </tr>\n",
       "  </thead>\n",
       "  <tbody>\n",
       "    <tr>\n",
       "      <th>585</th>\n",
       "      <td>Plot  Area</td>\n",
       "      <td>BTM 1st Stage</td>\n",
       "      <td>9 Bedroom</td>\n",
       "      <td>3300.0</td>\n",
       "      <td>14.0</td>\n",
       "      <td>500.0</td>\n",
       "      <td>9</td>\n",
       "      <td>15151.515152</td>\n",
       "    </tr>\n",
       "    <tr>\n",
       "      <th>5344</th>\n",
       "      <td>Super built-up  Area</td>\n",
       "      <td>Neeladri Nagar</td>\n",
       "      <td>10 BHK</td>\n",
       "      <td>4000.0</td>\n",
       "      <td>12.0</td>\n",
       "      <td>160.0</td>\n",
       "      <td>10</td>\n",
       "      <td>4000.000000</td>\n",
       "    </tr>\n",
       "    <tr>\n",
       "      <th>8547</th>\n",
       "      <td>Super built-up  Area</td>\n",
       "      <td>other</td>\n",
       "      <td>10 BHK</td>\n",
       "      <td>12000.0</td>\n",
       "      <td>12.0</td>\n",
       "      <td>525.0</td>\n",
       "      <td>10</td>\n",
       "      <td>4375.000000</td>\n",
       "    </tr>\n",
       "    <tr>\n",
       "      <th>8633</th>\n",
       "      <td>Super built-up  Area</td>\n",
       "      <td>other</td>\n",
       "      <td>16 BHK</td>\n",
       "      <td>10000.0</td>\n",
       "      <td>16.0</td>\n",
       "      <td>550.0</td>\n",
       "      <td>16</td>\n",
       "      <td>5500.000000</td>\n",
       "    </tr>\n",
       "    <tr>\n",
       "      <th>9329</th>\n",
       "      <td>Super built-up  Area</td>\n",
       "      <td>other</td>\n",
       "      <td>11 BHK</td>\n",
       "      <td>6000.0</td>\n",
       "      <td>12.0</td>\n",
       "      <td>150.0</td>\n",
       "      <td>11</td>\n",
       "      <td>2500.000000</td>\n",
       "    </tr>\n",
       "    <tr>\n",
       "      <th>9642</th>\n",
       "      <td>Super built-up  Area</td>\n",
       "      <td>other</td>\n",
       "      <td>13 BHK</td>\n",
       "      <td>5425.0</td>\n",
       "      <td>13.0</td>\n",
       "      <td>275.0</td>\n",
       "      <td>13</td>\n",
       "      <td>5069.124424</td>\n",
       "    </tr>\n",
       "  </tbody>\n",
       "</table>\n",
       "</div>"
      ],
      "text/plain": [
       "                 area_type        location       size  total_sqft  bath  \\\n",
       "585             Plot  Area   BTM 1st Stage  9 Bedroom      3300.0  14.0   \n",
       "5344  Super built-up  Area  Neeladri Nagar     10 BHK      4000.0  12.0   \n",
       "8547  Super built-up  Area           other     10 BHK     12000.0  12.0   \n",
       "8633  Super built-up  Area           other     16 BHK     10000.0  16.0   \n",
       "9329  Super built-up  Area           other     11 BHK      6000.0  12.0   \n",
       "9642  Super built-up  Area           other     13 BHK      5425.0  13.0   \n",
       "\n",
       "      price  bhk  price_per_sqft  \n",
       "585   500.0    9    15151.515152  \n",
       "5344  160.0   10     4000.000000  \n",
       "8547  525.0   10     4375.000000  \n",
       "8633  550.0   16     5500.000000  \n",
       "9329  150.0   11     2500.000000  \n",
       "9642  275.0   13     5069.124424  "
      ]
     },
     "execution_count": 499,
     "metadata": {},
     "output_type": "execute_result"
    }
   ],
   "source": [
    "df5[df5['bath']>10]"
   ]
  },
  {
   "cell_type": "markdown",
   "metadata": {},
   "source": [
    "It is unusual to have 2 more bathrooms than number of bedrooms in a home"
   ]
  },
  {
   "cell_type": "code",
   "execution_count": 500,
   "metadata": {
    "execution": {
     "iopub.execute_input": "2023-08-10T16:34:36.201899Z",
     "iopub.status.busy": "2023-08-10T16:34:36.201242Z",
     "iopub.status.idle": "2023-08-10T16:34:36.221143Z",
     "shell.execute_reply": "2023-08-10T16:34:36.219823Z",
     "shell.execute_reply.started": "2023-08-10T16:34:36.201859Z"
    }
   },
   "outputs": [
    {
     "data": {
      "text/html": [
       "<div>\n",
       "<style scoped>\n",
       "    .dataframe tbody tr th:only-of-type {\n",
       "        vertical-align: middle;\n",
       "    }\n",
       "\n",
       "    .dataframe tbody tr th {\n",
       "        vertical-align: top;\n",
       "    }\n",
       "\n",
       "    .dataframe thead th {\n",
       "        text-align: right;\n",
       "    }\n",
       "</style>\n",
       "<table border=\"1\" class=\"dataframe\">\n",
       "  <thead>\n",
       "    <tr style=\"text-align: right;\">\n",
       "      <th></th>\n",
       "      <th>area_type</th>\n",
       "      <th>location</th>\n",
       "      <th>size</th>\n",
       "      <th>total_sqft</th>\n",
       "      <th>bath</th>\n",
       "      <th>price</th>\n",
       "      <th>bhk</th>\n",
       "      <th>price_per_sqft</th>\n",
       "    </tr>\n",
       "  </thead>\n",
       "  <tbody>\n",
       "    <tr>\n",
       "      <th>585</th>\n",
       "      <td>Plot  Area</td>\n",
       "      <td>BTM 1st Stage</td>\n",
       "      <td>9 Bedroom</td>\n",
       "      <td>3300.0</td>\n",
       "      <td>14.0</td>\n",
       "      <td>500.0</td>\n",
       "      <td>9</td>\n",
       "      <td>15151.515152</td>\n",
       "    </tr>\n",
       "    <tr>\n",
       "      <th>1642</th>\n",
       "      <td>Built-up  Area</td>\n",
       "      <td>Chikkabanavar</td>\n",
       "      <td>4 Bedroom</td>\n",
       "      <td>2460.0</td>\n",
       "      <td>7.0</td>\n",
       "      <td>80.0</td>\n",
       "      <td>4</td>\n",
       "      <td>3252.032520</td>\n",
       "    </tr>\n",
       "    <tr>\n",
       "      <th>5305</th>\n",
       "      <td>Built-up  Area</td>\n",
       "      <td>Nagasandra</td>\n",
       "      <td>4 Bedroom</td>\n",
       "      <td>7000.0</td>\n",
       "      <td>8.0</td>\n",
       "      <td>450.0</td>\n",
       "      <td>4</td>\n",
       "      <td>6428.571429</td>\n",
       "    </tr>\n",
       "    <tr>\n",
       "      <th>6792</th>\n",
       "      <td>Super built-up  Area</td>\n",
       "      <td>Thanisandra</td>\n",
       "      <td>3 BHK</td>\n",
       "      <td>1806.0</td>\n",
       "      <td>6.0</td>\n",
       "      <td>116.0</td>\n",
       "      <td>3</td>\n",
       "      <td>6423.034330</td>\n",
       "    </tr>\n",
       "    <tr>\n",
       "      <th>8476</th>\n",
       "      <td>Super built-up  Area</td>\n",
       "      <td>other</td>\n",
       "      <td>6 BHK</td>\n",
       "      <td>11338.0</td>\n",
       "      <td>9.0</td>\n",
       "      <td>1000.0</td>\n",
       "      <td>6</td>\n",
       "      <td>8819.897689</td>\n",
       "    </tr>\n",
       "  </tbody>\n",
       "</table>\n",
       "</div>"
      ],
      "text/plain": [
       "                 area_type       location       size  total_sqft  bath  \\\n",
       "585             Plot  Area  BTM 1st Stage  9 Bedroom      3300.0  14.0   \n",
       "1642        Built-up  Area  Chikkabanavar  4 Bedroom      2460.0   7.0   \n",
       "5305        Built-up  Area     Nagasandra  4 Bedroom      7000.0   8.0   \n",
       "6792  Super built-up  Area    Thanisandra      3 BHK      1806.0   6.0   \n",
       "8476  Super built-up  Area          other      6 BHK     11338.0   9.0   \n",
       "\n",
       "       price  bhk  price_per_sqft  \n",
       "585    500.0    9    15151.515152  \n",
       "1642    80.0    4     3252.032520  \n",
       "5305   450.0    4     6428.571429  \n",
       "6792   116.0    3     6423.034330  \n",
       "8476  1000.0    6     8819.897689  "
      ]
     },
     "execution_count": 500,
     "metadata": {},
     "output_type": "execute_result"
    }
   ],
   "source": [
    "df5[df5['bath'] > df5['bhk']+2]"
   ]
  },
  {
   "cell_type": "markdown",
   "metadata": {},
   "source": [
    "If you have 4 bedroom home and even if you have bathroom in all 4 rooms plus one guest bathroom, you will have total bath = total bed + 1 max. Anything above that is an outlier or a data error and can be removed."
   ]
  },
  {
   "cell_type": "code",
   "execution_count": 501,
   "metadata": {
    "execution": {
     "iopub.execute_input": "2023-08-10T16:34:36.222975Z",
     "iopub.status.busy": "2023-08-10T16:34:36.222629Z",
     "iopub.status.idle": "2023-08-10T16:34:36.235661Z",
     "shell.execute_reply": "2023-08-10T16:34:36.234587Z",
     "shell.execute_reply.started": "2023-08-10T16:34:36.222945Z"
    }
   },
   "outputs": [
    {
     "data": {
      "text/plain": [
       "(7291, 8)"
      ]
     },
     "execution_count": 501,
     "metadata": {},
     "output_type": "execute_result"
    }
   ],
   "source": [
    "df6 = df5[df5['bath']<df5['bhk']+2]\n",
    "df6.shape"
   ]
  },
  {
   "cell_type": "markdown",
   "metadata": {},
   "source": [
    "### **One Hot Encoding**"
   ]
  },
  {
   "cell_type": "code",
   "execution_count": 502,
   "metadata": {
    "execution": {
     "iopub.execute_input": "2023-08-10T16:34:36.237364Z",
     "iopub.status.busy": "2023-08-10T16:34:36.237010Z",
     "iopub.status.idle": "2023-08-10T16:34:36.259680Z",
     "shell.execute_reply": "2023-08-10T16:34:36.258540Z",
     "shell.execute_reply.started": "2023-08-10T16:34:36.237334Z"
    }
   },
   "outputs": [],
   "source": [
    "dummies = pd.get_dummies(df6.location)\n",
    "dummies1 = pd.get_dummies(df6.area_type)\n"
   ]
  },
  {
   "cell_type": "code",
   "execution_count": 503,
   "metadata": {
    "execution": {
     "iopub.execute_input": "2023-08-10T16:34:36.261971Z",
     "iopub.status.busy": "2023-08-10T16:34:36.261446Z",
     "iopub.status.idle": "2023-08-10T16:34:36.299485Z",
     "shell.execute_reply": "2023-08-10T16:34:36.298017Z",
     "shell.execute_reply.started": "2023-08-10T16:34:36.261927Z"
    }
   },
   "outputs": [
    {
     "data": {
      "text/html": [
       "<div>\n",
       "<style scoped>\n",
       "    .dataframe tbody tr th:only-of-type {\n",
       "        vertical-align: middle;\n",
       "    }\n",
       "\n",
       "    .dataframe tbody tr th {\n",
       "        vertical-align: top;\n",
       "    }\n",
       "\n",
       "    .dataframe thead th {\n",
       "        text-align: right;\n",
       "    }\n",
       "</style>\n",
       "<table border=\"1\" class=\"dataframe\">\n",
       "  <thead>\n",
       "    <tr style=\"text-align: right;\">\n",
       "      <th></th>\n",
       "      <th>area_type</th>\n",
       "      <th>location</th>\n",
       "      <th>size</th>\n",
       "      <th>total_sqft</th>\n",
       "      <th>bath</th>\n",
       "      <th>price</th>\n",
       "      <th>bhk</th>\n",
       "      <th>price_per_sqft</th>\n",
       "      <th>1st Block Jayanagar</th>\n",
       "      <th>1st Block Koramangala</th>\n",
       "      <th>...</th>\n",
       "      <th>Whitefield</th>\n",
       "      <th>Yelachenahalli</th>\n",
       "      <th>Yelahanka</th>\n",
       "      <th>Yelahanka New Town</th>\n",
       "      <th>Yelenahalli</th>\n",
       "      <th>Yeshwanthpur</th>\n",
       "      <th>Built-up  Area</th>\n",
       "      <th>Carpet  Area</th>\n",
       "      <th>Plot  Area</th>\n",
       "      <th>Super built-up  Area</th>\n",
       "    </tr>\n",
       "  </thead>\n",
       "  <tbody>\n",
       "    <tr>\n",
       "      <th>0</th>\n",
       "      <td>Super built-up  Area</td>\n",
       "      <td>1st Block Jayanagar</td>\n",
       "      <td>4 BHK</td>\n",
       "      <td>2850.0</td>\n",
       "      <td>4.0</td>\n",
       "      <td>428.0</td>\n",
       "      <td>4</td>\n",
       "      <td>15017.543860</td>\n",
       "      <td>1</td>\n",
       "      <td>0</td>\n",
       "      <td>...</td>\n",
       "      <td>0</td>\n",
       "      <td>0</td>\n",
       "      <td>0</td>\n",
       "      <td>0</td>\n",
       "      <td>0</td>\n",
       "      <td>0</td>\n",
       "      <td>0</td>\n",
       "      <td>0</td>\n",
       "      <td>0</td>\n",
       "      <td>1</td>\n",
       "    </tr>\n",
       "    <tr>\n",
       "      <th>1</th>\n",
       "      <td>Super built-up  Area</td>\n",
       "      <td>1st Block Jayanagar</td>\n",
       "      <td>3 BHK</td>\n",
       "      <td>1630.0</td>\n",
       "      <td>3.0</td>\n",
       "      <td>194.0</td>\n",
       "      <td>3</td>\n",
       "      <td>11901.840491</td>\n",
       "      <td>1</td>\n",
       "      <td>0</td>\n",
       "      <td>...</td>\n",
       "      <td>0</td>\n",
       "      <td>0</td>\n",
       "      <td>0</td>\n",
       "      <td>0</td>\n",
       "      <td>0</td>\n",
       "      <td>0</td>\n",
       "      <td>0</td>\n",
       "      <td>0</td>\n",
       "      <td>0</td>\n",
       "      <td>1</td>\n",
       "    </tr>\n",
       "    <tr>\n",
       "      <th>2</th>\n",
       "      <td>Super built-up  Area</td>\n",
       "      <td>1st Block Jayanagar</td>\n",
       "      <td>3 BHK</td>\n",
       "      <td>1875.0</td>\n",
       "      <td>2.0</td>\n",
       "      <td>235.0</td>\n",
       "      <td>3</td>\n",
       "      <td>12533.333333</td>\n",
       "      <td>1</td>\n",
       "      <td>0</td>\n",
       "      <td>...</td>\n",
       "      <td>0</td>\n",
       "      <td>0</td>\n",
       "      <td>0</td>\n",
       "      <td>0</td>\n",
       "      <td>0</td>\n",
       "      <td>0</td>\n",
       "      <td>0</td>\n",
       "      <td>0</td>\n",
       "      <td>0</td>\n",
       "      <td>1</td>\n",
       "    </tr>\n",
       "    <tr>\n",
       "      <th>3</th>\n",
       "      <td>Built-up  Area</td>\n",
       "      <td>1st Block Jayanagar</td>\n",
       "      <td>3 BHK</td>\n",
       "      <td>1200.0</td>\n",
       "      <td>2.0</td>\n",
       "      <td>130.0</td>\n",
       "      <td>3</td>\n",
       "      <td>10833.333333</td>\n",
       "      <td>1</td>\n",
       "      <td>0</td>\n",
       "      <td>...</td>\n",
       "      <td>0</td>\n",
       "      <td>0</td>\n",
       "      <td>0</td>\n",
       "      <td>0</td>\n",
       "      <td>0</td>\n",
       "      <td>0</td>\n",
       "      <td>1</td>\n",
       "      <td>0</td>\n",
       "      <td>0</td>\n",
       "      <td>0</td>\n",
       "    </tr>\n",
       "    <tr>\n",
       "      <th>4</th>\n",
       "      <td>Super built-up  Area</td>\n",
       "      <td>1st Block Jayanagar</td>\n",
       "      <td>2 BHK</td>\n",
       "      <td>1235.0</td>\n",
       "      <td>2.0</td>\n",
       "      <td>148.0</td>\n",
       "      <td>2</td>\n",
       "      <td>11983.805668</td>\n",
       "      <td>1</td>\n",
       "      <td>0</td>\n",
       "      <td>...</td>\n",
       "      <td>0</td>\n",
       "      <td>0</td>\n",
       "      <td>0</td>\n",
       "      <td>0</td>\n",
       "      <td>0</td>\n",
       "      <td>0</td>\n",
       "      <td>0</td>\n",
       "      <td>0</td>\n",
       "      <td>0</td>\n",
       "      <td>1</td>\n",
       "    </tr>\n",
       "    <tr>\n",
       "      <th>...</th>\n",
       "      <td>...</td>\n",
       "      <td>...</td>\n",
       "      <td>...</td>\n",
       "      <td>...</td>\n",
       "      <td>...</td>\n",
       "      <td>...</td>\n",
       "      <td>...</td>\n",
       "      <td>...</td>\n",
       "      <td>...</td>\n",
       "      <td>...</td>\n",
       "      <td>...</td>\n",
       "      <td>...</td>\n",
       "      <td>...</td>\n",
       "      <td>...</td>\n",
       "      <td>...</td>\n",
       "      <td>...</td>\n",
       "      <td>...</td>\n",
       "      <td>...</td>\n",
       "      <td>...</td>\n",
       "      <td>...</td>\n",
       "      <td>...</td>\n",
       "    </tr>\n",
       "    <tr>\n",
       "      <th>10213</th>\n",
       "      <td>Carpet  Area</td>\n",
       "      <td>other</td>\n",
       "      <td>2 BHK</td>\n",
       "      <td>1200.0</td>\n",
       "      <td>2.0</td>\n",
       "      <td>70.0</td>\n",
       "      <td>2</td>\n",
       "      <td>5833.333333</td>\n",
       "      <td>0</td>\n",
       "      <td>0</td>\n",
       "      <td>...</td>\n",
       "      <td>0</td>\n",
       "      <td>0</td>\n",
       "      <td>0</td>\n",
       "      <td>0</td>\n",
       "      <td>0</td>\n",
       "      <td>0</td>\n",
       "      <td>0</td>\n",
       "      <td>1</td>\n",
       "      <td>0</td>\n",
       "      <td>0</td>\n",
       "    </tr>\n",
       "    <tr>\n",
       "      <th>10214</th>\n",
       "      <td>Super built-up  Area</td>\n",
       "      <td>other</td>\n",
       "      <td>1 BHK</td>\n",
       "      <td>1800.0</td>\n",
       "      <td>1.0</td>\n",
       "      <td>200.0</td>\n",
       "      <td>1</td>\n",
       "      <td>11111.111111</td>\n",
       "      <td>0</td>\n",
       "      <td>0</td>\n",
       "      <td>...</td>\n",
       "      <td>0</td>\n",
       "      <td>0</td>\n",
       "      <td>0</td>\n",
       "      <td>0</td>\n",
       "      <td>0</td>\n",
       "      <td>0</td>\n",
       "      <td>0</td>\n",
       "      <td>0</td>\n",
       "      <td>0</td>\n",
       "      <td>1</td>\n",
       "    </tr>\n",
       "    <tr>\n",
       "      <th>10217</th>\n",
       "      <td>Super built-up  Area</td>\n",
       "      <td>other</td>\n",
       "      <td>2 BHK</td>\n",
       "      <td>1353.0</td>\n",
       "      <td>2.0</td>\n",
       "      <td>110.0</td>\n",
       "      <td>2</td>\n",
       "      <td>8130.081301</td>\n",
       "      <td>0</td>\n",
       "      <td>0</td>\n",
       "      <td>...</td>\n",
       "      <td>0</td>\n",
       "      <td>0</td>\n",
       "      <td>0</td>\n",
       "      <td>0</td>\n",
       "      <td>0</td>\n",
       "      <td>0</td>\n",
       "      <td>0</td>\n",
       "      <td>0</td>\n",
       "      <td>0</td>\n",
       "      <td>1</td>\n",
       "    </tr>\n",
       "    <tr>\n",
       "      <th>10218</th>\n",
       "      <td>Plot  Area</td>\n",
       "      <td>other</td>\n",
       "      <td>1 Bedroom</td>\n",
       "      <td>812.0</td>\n",
       "      <td>1.0</td>\n",
       "      <td>26.0</td>\n",
       "      <td>1</td>\n",
       "      <td>3201.970443</td>\n",
       "      <td>0</td>\n",
       "      <td>0</td>\n",
       "      <td>...</td>\n",
       "      <td>0</td>\n",
       "      <td>0</td>\n",
       "      <td>0</td>\n",
       "      <td>0</td>\n",
       "      <td>0</td>\n",
       "      <td>0</td>\n",
       "      <td>0</td>\n",
       "      <td>0</td>\n",
       "      <td>1</td>\n",
       "      <td>0</td>\n",
       "    </tr>\n",
       "    <tr>\n",
       "      <th>10221</th>\n",
       "      <td>Super built-up  Area</td>\n",
       "      <td>other</td>\n",
       "      <td>4 BHK</td>\n",
       "      <td>3600.0</td>\n",
       "      <td>5.0</td>\n",
       "      <td>400.0</td>\n",
       "      <td>4</td>\n",
       "      <td>11111.111111</td>\n",
       "      <td>0</td>\n",
       "      <td>0</td>\n",
       "      <td>...</td>\n",
       "      <td>0</td>\n",
       "      <td>0</td>\n",
       "      <td>0</td>\n",
       "      <td>0</td>\n",
       "      <td>0</td>\n",
       "      <td>0</td>\n",
       "      <td>0</td>\n",
       "      <td>0</td>\n",
       "      <td>0</td>\n",
       "      <td>1</td>\n",
       "    </tr>\n",
       "  </tbody>\n",
       "</table>\n",
       "<p>7291 rows × 266 columns</p>\n",
       "</div>"
      ],
      "text/plain": [
       "                  area_type             location       size  total_sqft  bath  \\\n",
       "0      Super built-up  Area  1st Block Jayanagar      4 BHK      2850.0   4.0   \n",
       "1      Super built-up  Area  1st Block Jayanagar      3 BHK      1630.0   3.0   \n",
       "2      Super built-up  Area  1st Block Jayanagar      3 BHK      1875.0   2.0   \n",
       "3            Built-up  Area  1st Block Jayanagar      3 BHK      1200.0   2.0   \n",
       "4      Super built-up  Area  1st Block Jayanagar      2 BHK      1235.0   2.0   \n",
       "...                     ...                  ...        ...         ...   ...   \n",
       "10213          Carpet  Area                other      2 BHK      1200.0   2.0   \n",
       "10214  Super built-up  Area                other      1 BHK      1800.0   1.0   \n",
       "10217  Super built-up  Area                other      2 BHK      1353.0   2.0   \n",
       "10218            Plot  Area                other  1 Bedroom       812.0   1.0   \n",
       "10221  Super built-up  Area                other      4 BHK      3600.0   5.0   \n",
       "\n",
       "       price  bhk  price_per_sqft  1st Block Jayanagar  1st Block Koramangala  \\\n",
       "0      428.0    4    15017.543860                    1                      0   \n",
       "1      194.0    3    11901.840491                    1                      0   \n",
       "2      235.0    3    12533.333333                    1                      0   \n",
       "3      130.0    3    10833.333333                    1                      0   \n",
       "4      148.0    2    11983.805668                    1                      0   \n",
       "...      ...  ...             ...                  ...                    ...   \n",
       "10213   70.0    2     5833.333333                    0                      0   \n",
       "10214  200.0    1    11111.111111                    0                      0   \n",
       "10217  110.0    2     8130.081301                    0                      0   \n",
       "10218   26.0    1     3201.970443                    0                      0   \n",
       "10221  400.0    4    11111.111111                    0                      0   \n",
       "\n",
       "       ...  Whitefield  Yelachenahalli  Yelahanka  Yelahanka New Town  \\\n",
       "0      ...           0               0          0                   0   \n",
       "1      ...           0               0          0                   0   \n",
       "2      ...           0               0          0                   0   \n",
       "3      ...           0               0          0                   0   \n",
       "4      ...           0               0          0                   0   \n",
       "...    ...         ...             ...        ...                 ...   \n",
       "10213  ...           0               0          0                   0   \n",
       "10214  ...           0               0          0                   0   \n",
       "10217  ...           0               0          0                   0   \n",
       "10218  ...           0               0          0                   0   \n",
       "10221  ...           0               0          0                   0   \n",
       "\n",
       "       Yelenahalli  Yeshwanthpur  Built-up  Area  Carpet  Area  Plot  Area  \\\n",
       "0                0             0               0             0           0   \n",
       "1                0             0               0             0           0   \n",
       "2                0             0               0             0           0   \n",
       "3                0             0               1             0           0   \n",
       "4                0             0               0             0           0   \n",
       "...            ...           ...             ...           ...         ...   \n",
       "10213            0             0               0             1           0   \n",
       "10214            0             0               0             0           0   \n",
       "10217            0             0               0             0           0   \n",
       "10218            0             0               0             0           1   \n",
       "10221            0             0               0             0           0   \n",
       "\n",
       "       Super built-up  Area  \n",
       "0                         1  \n",
       "1                         1  \n",
       "2                         1  \n",
       "3                         0  \n",
       "4                         1  \n",
       "...                     ...  \n",
       "10213                     0  \n",
       "10214                     1  \n",
       "10217                     1  \n",
       "10218                     0  \n",
       "10221                     1  \n",
       "\n",
       "[7291 rows x 266 columns]"
      ]
     },
     "execution_count": 503,
     "metadata": {},
     "output_type": "execute_result"
    }
   ],
   "source": [
    "df7 = pd.concat([df6,dummies.drop('other',axis='columns'),dummies1],axis='columns')\n",
    "df7"
   ]
  },
  {
   "cell_type": "code",
   "execution_count": 504,
   "metadata": {
    "execution": {
     "iopub.execute_input": "2023-08-10T16:34:36.302053Z",
     "iopub.status.busy": "2023-08-10T16:34:36.301335Z",
     "iopub.status.idle": "2023-08-10T16:34:36.310240Z",
     "shell.execute_reply": "2023-08-10T16:34:36.309414Z",
     "shell.execute_reply.started": "2023-08-10T16:34:36.302010Z"
    }
   },
   "outputs": [],
   "source": [
    "df7.drop(['area_type','location','size','price_per_sqft'],axis=1,inplace=True)"
   ]
  },
  {
   "cell_type": "code",
   "execution_count": 505,
   "metadata": {
    "execution": {
     "iopub.execute_input": "2023-08-10T16:34:36.312546Z",
     "iopub.status.busy": "2023-08-10T16:34:36.311852Z",
     "iopub.status.idle": "2023-08-10T16:34:36.321619Z",
     "shell.execute_reply": "2023-08-10T16:34:36.320808Z",
     "shell.execute_reply.started": "2023-08-10T16:34:36.312505Z"
    }
   },
   "outputs": [
    {
     "data": {
      "text/plain": [
       "Index(['total_sqft', 'bath', 'price', 'bhk', '1st Block Jayanagar',\n",
       "       '1st Block Koramangala', '1st Phase JP Nagar',\n",
       "       '2nd Phase Judicial Layout', '2nd Stage Nagarbhavi',\n",
       "       '5th Block Hbr Layout',\n",
       "       ...\n",
       "       'Whitefield', 'Yelachenahalli', 'Yelahanka', 'Yelahanka New Town',\n",
       "       'Yelenahalli', 'Yeshwanthpur', 'Built-up  Area', 'Carpet  Area',\n",
       "       'Plot  Area', 'Super built-up  Area'],\n",
       "      dtype='object', length=262)"
      ]
     },
     "execution_count": 505,
     "metadata": {},
     "output_type": "execute_result"
    }
   ],
   "source": [
    "df7.columns"
   ]
  },
  {
   "cell_type": "code",
   "execution_count": 506,
   "metadata": {
    "execution": {
     "iopub.execute_input": "2023-08-10T16:34:36.323457Z",
     "iopub.status.busy": "2023-08-10T16:34:36.322912Z",
     "iopub.status.idle": "2023-08-10T16:34:36.332861Z",
     "shell.execute_reply": "2023-08-10T16:34:36.331566Z",
     "shell.execute_reply.started": "2023-08-10T16:34:36.323424Z"
    }
   },
   "outputs": [
    {
     "data": {
      "text/plain": [
       "(7291, 262)"
      ]
     },
     "execution_count": 506,
     "metadata": {},
     "output_type": "execute_result"
    }
   ],
   "source": [
    "df7.shape"
   ]
  },
  {
   "cell_type": "markdown",
   "metadata": {},
   "source": [
    "### **Model Building**"
   ]
  },
  {
   "cell_type": "code",
   "execution_count": 507,
   "metadata": {
    "execution": {
     "iopub.execute_input": "2023-08-10T16:34:36.336886Z",
     "iopub.status.busy": "2023-08-10T16:34:36.336339Z",
     "iopub.status.idle": "2023-08-10T16:34:36.344536Z",
     "shell.execute_reply": "2023-08-10T16:34:36.343467Z",
     "shell.execute_reply.started": "2023-08-10T16:34:36.336844Z"
    }
   },
   "outputs": [],
   "source": [
    "X = df7.drop('price',axis=1)\n",
    "y = df7.price"
   ]
  },
  {
   "cell_type": "code",
   "execution_count": 508,
   "metadata": {
    "execution": {
     "iopub.execute_input": "2023-08-10T16:34:36.347344Z",
     "iopub.status.busy": "2023-08-10T16:34:36.346133Z",
     "iopub.status.idle": "2023-08-10T16:34:36.371922Z",
     "shell.execute_reply": "2023-08-10T16:34:36.370713Z",
     "shell.execute_reply.started": "2023-08-10T16:34:36.347300Z"
    }
   },
   "outputs": [],
   "source": [
    "from sklearn.model_selection import train_test_split\n",
    "X_train,X_test,y_train,y_test = train_test_split(X,y,test_size=0.2,random_state=1)"
   ]
  },
  {
   "cell_type": "code",
   "execution_count": 509,
   "metadata": {
    "execution": {
     "iopub.execute_input": "2023-08-10T16:34:36.374188Z",
     "iopub.status.busy": "2023-08-10T16:34:36.373756Z",
     "iopub.status.idle": "2023-08-10T16:34:36.503500Z",
     "shell.execute_reply": "2023-08-10T16:34:36.500570Z",
     "shell.execute_reply.started": "2023-08-10T16:34:36.374145Z"
    }
   },
   "outputs": [
    {
     "data": {
      "text/html": [
       "<style>#sk-container-id-5 {color: black;background-color: white;}#sk-container-id-5 pre{padding: 0;}#sk-container-id-5 div.sk-toggleable {background-color: white;}#sk-container-id-5 label.sk-toggleable__label {cursor: pointer;display: block;width: 100%;margin-bottom: 0;padding: 0.3em;box-sizing: border-box;text-align: center;}#sk-container-id-5 label.sk-toggleable__label-arrow:before {content: \"▸\";float: left;margin-right: 0.25em;color: #696969;}#sk-container-id-5 label.sk-toggleable__label-arrow:hover:before {color: black;}#sk-container-id-5 div.sk-estimator:hover label.sk-toggleable__label-arrow:before {color: black;}#sk-container-id-5 div.sk-toggleable__content {max-height: 0;max-width: 0;overflow: hidden;text-align: left;background-color: #f0f8ff;}#sk-container-id-5 div.sk-toggleable__content pre {margin: 0.2em;color: black;border-radius: 0.25em;background-color: #f0f8ff;}#sk-container-id-5 input.sk-toggleable__control:checked~div.sk-toggleable__content {max-height: 200px;max-width: 100%;overflow: auto;}#sk-container-id-5 input.sk-toggleable__control:checked~label.sk-toggleable__label-arrow:before {content: \"▾\";}#sk-container-id-5 div.sk-estimator input.sk-toggleable__control:checked~label.sk-toggleable__label {background-color: #d4ebff;}#sk-container-id-5 div.sk-label input.sk-toggleable__control:checked~label.sk-toggleable__label {background-color: #d4ebff;}#sk-container-id-5 input.sk-hidden--visually {border: 0;clip: rect(1px 1px 1px 1px);clip: rect(1px, 1px, 1px, 1px);height: 1px;margin: -1px;overflow: hidden;padding: 0;position: absolute;width: 1px;}#sk-container-id-5 div.sk-estimator {font-family: monospace;background-color: #f0f8ff;border: 1px dotted black;border-radius: 0.25em;box-sizing: border-box;margin-bottom: 0.5em;}#sk-container-id-5 div.sk-estimator:hover {background-color: #d4ebff;}#sk-container-id-5 div.sk-parallel-item::after {content: \"\";width: 100%;border-bottom: 1px solid gray;flex-grow: 1;}#sk-container-id-5 div.sk-label:hover label.sk-toggleable__label {background-color: #d4ebff;}#sk-container-id-5 div.sk-serial::before {content: \"\";position: absolute;border-left: 1px solid gray;box-sizing: border-box;top: 0;bottom: 0;left: 50%;z-index: 0;}#sk-container-id-5 div.sk-serial {display: flex;flex-direction: column;align-items: center;background-color: white;padding-right: 0.2em;padding-left: 0.2em;position: relative;}#sk-container-id-5 div.sk-item {position: relative;z-index: 1;}#sk-container-id-5 div.sk-parallel {display: flex;align-items: stretch;justify-content: center;background-color: white;position: relative;}#sk-container-id-5 div.sk-item::before, #sk-container-id-5 div.sk-parallel-item::before {content: \"\";position: absolute;border-left: 1px solid gray;box-sizing: border-box;top: 0;bottom: 0;left: 50%;z-index: -1;}#sk-container-id-5 div.sk-parallel-item {display: flex;flex-direction: column;z-index: 1;position: relative;background-color: white;}#sk-container-id-5 div.sk-parallel-item:first-child::after {align-self: flex-end;width: 50%;}#sk-container-id-5 div.sk-parallel-item:last-child::after {align-self: flex-start;width: 50%;}#sk-container-id-5 div.sk-parallel-item:only-child::after {width: 0;}#sk-container-id-5 div.sk-dashed-wrapped {border: 1px dashed gray;margin: 0 0.4em 0.5em 0.4em;box-sizing: border-box;padding-bottom: 0.4em;background-color: white;}#sk-container-id-5 div.sk-label label {font-family: monospace;font-weight: bold;display: inline-block;line-height: 1.2em;}#sk-container-id-5 div.sk-label-container {text-align: center;}#sk-container-id-5 div.sk-container {/* jupyter's `normalize.less` sets `[hidden] { display: none; }` but bootstrap.min.css set `[hidden] { display: none !important; }` so we also need the `!important` here to be able to override the default hidden behavior on the sphinx rendered scikit-learn.org. See: https://github.com/scikit-learn/scikit-learn/issues/21755 */display: inline-block !important;position: relative;}#sk-container-id-5 div.sk-text-repr-fallback {display: none;}</style><div id=\"sk-container-id-5\" class=\"sk-top-container\"><div class=\"sk-text-repr-fallback\"><pre>LinearRegression()</pre><b>In a Jupyter environment, please rerun this cell to show the HTML representation or trust the notebook. <br />On GitHub, the HTML representation is unable to render, please try loading this page with nbviewer.org.</b></div><div class=\"sk-container\" hidden><div class=\"sk-item\"><div class=\"sk-estimator sk-toggleable\"><input class=\"sk-toggleable__control sk-hidden--visually\" id=\"sk-estimator-id-5\" type=\"checkbox\" checked><label for=\"sk-estimator-id-5\" class=\"sk-toggleable__label sk-toggleable__label-arrow\">LinearRegression</label><div class=\"sk-toggleable__content\"><pre>LinearRegression()</pre></div></div></div></div></div>"
      ],
      "text/plain": [
       "LinearRegression()"
      ]
     },
     "execution_count": 509,
     "metadata": {},
     "output_type": "execute_result"
    }
   ],
   "source": [
    "from sklearn.linear_model import LinearRegression\n",
    "lr = LinearRegression()\n",
    "lr.fit(X_train,y_train)"
   ]
  },
  {
   "cell_type": "code",
   "execution_count": 510,
   "metadata": {
    "execution": {
     "iopub.execute_input": "2023-08-10T16:34:36.512416Z",
     "iopub.status.busy": "2023-08-10T16:34:36.511642Z",
     "iopub.status.idle": "2023-08-10T16:34:36.580588Z",
     "shell.execute_reply": "2023-08-10T16:34:36.578863Z",
     "shell.execute_reply.started": "2023-08-10T16:34:36.512354Z"
    }
   },
   "outputs": [
    {
     "name": "stdout",
     "output_type": "stream",
     "text": [
      "0.8362059146163534\n"
     ]
    }
   ],
   "source": [
    "from sklearn.metrics import r2_score\n",
    "y_pred = lr.predict(X_test)\n",
    "print(lr.score(X_test,y_test))"
   ]
  },
  {
   "cell_type": "markdown",
   "metadata": {},
   "source": [
    "Use K Fold cross validation to measure accuracy of our LinearRegression model"
   ]
  },
  {
   "cell_type": "code",
   "execution_count": 511,
   "metadata": {
    "execution": {
     "iopub.execute_input": "2023-08-10T16:34:36.592114Z",
     "iopub.status.busy": "2023-08-10T16:34:36.588581Z",
     "iopub.status.idle": "2023-08-10T16:34:36.601003Z",
     "shell.execute_reply": "2023-08-10T16:34:36.599615Z",
     "shell.execute_reply.started": "2023-08-10T16:34:36.592051Z"
    }
   },
   "outputs": [],
   "source": [
    "from sklearn.model_selection import ShuffleSplit, cross_val_score"
   ]
  },
  {
   "cell_type": "code",
   "execution_count": 512,
   "metadata": {
    "execution": {
     "iopub.execute_input": "2023-08-10T16:34:36.610541Z",
     "iopub.status.busy": "2023-08-10T16:34:36.609321Z",
     "iopub.status.idle": "2023-08-10T16:34:37.726923Z",
     "shell.execute_reply": "2023-08-10T16:34:37.725085Z",
     "shell.execute_reply.started": "2023-08-10T16:34:36.610477Z"
    }
   },
   "outputs": [
    {
     "data": {
      "text/plain": [
       "array([0.84085802, 0.82811817, 0.90235459, 0.85080899, 0.83693857])"
      ]
     },
     "execution_count": 512,
     "metadata": {},
     "output_type": "execute_result"
    }
   ],
   "source": [
    "cv = ShuffleSplit(n_splits=5,test_size=0.2,random_state=0)\n",
    "cross_val_score(LinearRegression(), X, y, cv=cv)"
   ]
  },
  {
   "cell_type": "markdown",
   "metadata": {},
   "source": [
    "We can see that in 5 iterations we get a score above 80% all the time. This is pretty good but we want to test few other algorithms for regression to see if we can get even better score. We will use GridSearchCV for this purpose"
   ]
  },
  {
   "cell_type": "markdown",
   "metadata": {},
   "source": [
    "### **Find best model using GridSearchCV**"
   ]
  },
  {
   "cell_type": "code",
   "execution_count": 513,
   "metadata": {
    "execution": {
     "iopub.execute_input": "2023-08-10T16:34:37.749957Z",
     "iopub.status.busy": "2023-08-10T16:34:37.747312Z",
     "iopub.status.idle": "2023-08-10T16:35:41.022428Z",
     "shell.execute_reply": "2023-08-10T16:35:41.021401Z",
     "shell.execute_reply.started": "2023-08-10T16:34:37.749886Z"
    }
   },
   "outputs": [
    {
     "data": {
      "text/html": [
       "<div>\n",
       "<style scoped>\n",
       "    .dataframe tbody tr th:only-of-type {\n",
       "        vertical-align: middle;\n",
       "    }\n",
       "\n",
       "    .dataframe tbody tr th {\n",
       "        vertical-align: top;\n",
       "    }\n",
       "\n",
       "    .dataframe thead th {\n",
       "        text-align: right;\n",
       "    }\n",
       "</style>\n",
       "<table border=\"1\" class=\"dataframe\">\n",
       "  <thead>\n",
       "    <tr style=\"text-align: right;\">\n",
       "      <th></th>\n",
       "      <th>model</th>\n",
       "      <th>best_score</th>\n",
       "    </tr>\n",
       "  </thead>\n",
       "  <tbody>\n",
       "    <tr>\n",
       "      <th>0</th>\n",
       "      <td>linear_regression</td>\n",
       "      <td>0.851816</td>\n",
       "    </tr>\n",
       "    <tr>\n",
       "      <th>1</th>\n",
       "      <td>random_forest</td>\n",
       "      <td>0.781746</td>\n",
       "    </tr>\n",
       "    <tr>\n",
       "      <th>2</th>\n",
       "      <td>lasso</td>\n",
       "      <td>0.705025</td>\n",
       "    </tr>\n",
       "    <tr>\n",
       "      <th>3</th>\n",
       "      <td>decision_tree</td>\n",
       "      <td>0.691500</td>\n",
       "    </tr>\n",
       "  </tbody>\n",
       "</table>\n",
       "</div>"
      ],
      "text/plain": [
       "               model  best_score\n",
       "0  linear_regression    0.851816\n",
       "1      random_forest    0.781746\n",
       "2              lasso    0.705025\n",
       "3      decision_tree    0.691500"
      ]
     },
     "execution_count": 513,
     "metadata": {},
     "output_type": "execute_result"
    }
   ],
   "source": [
    "from sklearn.model_selection import GridSearchCV\n",
    "from sklearn.linear_model import Lasso, LinearRegression\n",
    "from sklearn.tree import DecisionTreeRegressor\n",
    "from sklearn.ensemble import RandomForestRegressor\n",
    "\n",
    "def find_best_model_using_gridsearchcv(X,y):\n",
    "    algos = {\n",
    "        'linear_regression' : {\n",
    "            'model': LinearRegression(),\n",
    "            'params': {\n",
    "            }\n",
    "        },\n",
    "        'random_forest':{\n",
    "            'model': RandomForestRegressor(),\n",
    "            'params':{}\n",
    "        \n",
    "        },\n",
    "        'lasso': {\n",
    "            'model': Lasso(),\n",
    "            'params': {\n",
    "                'alpha': [1,2],\n",
    "                'selection': ['random', 'cyclic']\n",
    "            }\n",
    "        },\n",
    "        'decision_tree': {\n",
    "            'model': DecisionTreeRegressor(),\n",
    "            'params': {\n",
    "                'criterion' : ['mse','friedman_mse'],\n",
    "                'splitter': ['best','random']\n",
    "            }\n",
    "        }\n",
    "    }\n",
    "    scores = []\n",
    "    cv = ShuffleSplit(n_splits=5, test_size=0.2, random_state=0)\n",
    "    for algo_name, config in algos.items():\n",
    "        gs =  GridSearchCV(config['model'], config['params'], cv=cv, return_train_score=False)\n",
    "        gs.fit(X,y)\n",
    "        scores.append({\n",
    "            'model': algo_name,\n",
    "            'best_score': gs.best_score_,\n",
    "            'best_params': gs.best_params_\n",
    "        })\n",
    "\n",
    "    return pd.DataFrame(scores,columns=['model','best_score'])\n",
    "\n",
    "find_best_model_using_gridsearchcv(X,y)"
   ]
  },
  {
   "cell_type": "markdown",
   "metadata": {},
   "source": [
    "Based on above results we can say that LinearRegression gives the best score. Hence we will use that"
   ]
  },
  {
   "cell_type": "code",
   "execution_count": 514,
   "metadata": {
    "execution": {
     "iopub.execute_input": "2023-08-10T16:35:41.024305Z",
     "iopub.status.busy": "2023-08-10T16:35:41.023887Z",
     "iopub.status.idle": "2023-08-10T16:35:41.051083Z",
     "shell.execute_reply": "2023-08-10T16:35:41.049273Z",
     "shell.execute_reply.started": "2023-08-10T16:35:41.024275Z"
    }
   },
   "outputs": [
    {
     "data": {
      "text/html": [
       "<div>\n",
       "<style scoped>\n",
       "    .dataframe tbody tr th:only-of-type {\n",
       "        vertical-align: middle;\n",
       "    }\n",
       "\n",
       "    .dataframe tbody tr th {\n",
       "        vertical-align: top;\n",
       "    }\n",
       "\n",
       "    .dataframe thead th {\n",
       "        text-align: right;\n",
       "    }\n",
       "</style>\n",
       "<table border=\"1\" class=\"dataframe\">\n",
       "  <thead>\n",
       "    <tr style=\"text-align: right;\">\n",
       "      <th></th>\n",
       "      <th>Actual Price</th>\n",
       "      <th>Predicted Price</th>\n",
       "    </tr>\n",
       "  </thead>\n",
       "  <tbody>\n",
       "    <tr>\n",
       "      <th>2213</th>\n",
       "      <td>38.00</td>\n",
       "      <td>17.128736</td>\n",
       "    </tr>\n",
       "    <tr>\n",
       "      <th>5886</th>\n",
       "      <td>52.66</td>\n",
       "      <td>68.315854</td>\n",
       "    </tr>\n",
       "    <tr>\n",
       "      <th>4518</th>\n",
       "      <td>45.00</td>\n",
       "      <td>41.959816</td>\n",
       "    </tr>\n",
       "    <tr>\n",
       "      <th>7500</th>\n",
       "      <td>156.00</td>\n",
       "      <td>147.806426</td>\n",
       "    </tr>\n",
       "    <tr>\n",
       "      <th>7053</th>\n",
       "      <td>42.00</td>\n",
       "      <td>38.850963</td>\n",
       "    </tr>\n",
       "    <tr>\n",
       "      <th>6628</th>\n",
       "      <td>126.00</td>\n",
       "      <td>137.050350</td>\n",
       "    </tr>\n",
       "    <tr>\n",
       "      <th>256</th>\n",
       "      <td>20.00</td>\n",
       "      <td>1.072404</td>\n",
       "    </tr>\n",
       "    <tr>\n",
       "      <th>5210</th>\n",
       "      <td>49.65</td>\n",
       "      <td>53.015241</td>\n",
       "    </tr>\n",
       "    <tr>\n",
       "      <th>5394</th>\n",
       "      <td>204.00</td>\n",
       "      <td>204.974381</td>\n",
       "    </tr>\n",
       "    <tr>\n",
       "      <th>7599</th>\n",
       "      <td>261.00</td>\n",
       "      <td>216.951920</td>\n",
       "    </tr>\n",
       "  </tbody>\n",
       "</table>\n",
       "</div>"
      ],
      "text/plain": [
       "      Actual Price  Predicted Price\n",
       "2213         38.00        17.128736\n",
       "5886         52.66        68.315854\n",
       "4518         45.00        41.959816\n",
       "7500        156.00       147.806426\n",
       "7053         42.00        38.850963\n",
       "6628        126.00       137.050350\n",
       "256          20.00         1.072404\n",
       "5210         49.65        53.015241\n",
       "5394        204.00       204.974381\n",
       "7599        261.00       216.951920"
      ]
     },
     "execution_count": 514,
     "metadata": {},
     "output_type": "execute_result"
    }
   ],
   "source": [
    "price_data = pd.DataFrame({'Actual Price': y_test, 'Predicted Price':lr.predict(X_test)})\n",
    "price_data.head(10)"
   ]
  },
  {
   "cell_type": "markdown",
   "metadata": {},
   "source": [
    "### **Prediction Using Our Model**"
   ]
  },
  {
   "cell_type": "code",
   "execution_count": 521,
   "metadata": {
    "execution": {
     "iopub.execute_input": "2023-08-10T16:45:00.542125Z",
     "iopub.status.busy": "2023-08-10T16:45:00.541714Z",
     "iopub.status.idle": "2023-08-10T16:45:00.550972Z",
     "shell.execute_reply": "2023-08-10T16:45:00.549673Z",
     "shell.execute_reply.started": "2023-08-10T16:45:00.542093Z"
    }
   },
   "outputs": [],
   "source": [
    "def predict_price(location,sqft,bath,bhk,area_type):    \n",
    "    loc_index = np.where(X.columns==location)[0][0]\n",
    "    area_index = np.where(X.columns == area_type)[0][0]\n",
    "\n",
    "    x = np.zeros(len(X.columns))\n",
    "    x[0] = sqft\n",
    "    x[1] = bath\n",
    "    x[2] = bhk\n",
    "    if loc_index >= 0:\n",
    "        x[loc_index] = 1\n",
    "    if area_index >= 0:\n",
    "        x[area_index] = 1\n",
    "\n",
    "    return lr.predict([x])[0]"
   ]
  },
  {
   "cell_type": "code",
   "execution_count": 523,
   "metadata": {
    "execution": {
     "iopub.execute_input": "2023-08-10T16:45:38.995693Z",
     "iopub.status.busy": "2023-08-10T16:45:38.995254Z",
     "iopub.status.idle": "2023-08-10T16:45:39.004173Z",
     "shell.execute_reply": "2023-08-10T16:45:39.002940Z",
     "shell.execute_reply.started": "2023-08-10T16:45:38.995656Z"
    }
   },
   "outputs": [
    {
     "data": {
      "text/plain": [
       "93.41628168983249"
      ]
     },
     "execution_count": 523,
     "metadata": {},
     "output_type": "execute_result"
    }
   ],
   "source": [
    "predict_price('1st Phase JP Nagar',1000, 2, 2,'Plot  Area')"
   ]
  },
  {
   "cell_type": "code",
   "execution_count": 524,
   "metadata": {
    "execution": {
     "iopub.execute_input": "2023-08-10T16:45:44.999708Z",
     "iopub.status.busy": "2023-08-10T16:45:44.999282Z",
     "iopub.status.idle": "2023-08-10T16:45:45.008675Z",
     "shell.execute_reply": "2023-08-10T16:45:45.007500Z",
     "shell.execute_reply.started": "2023-08-10T16:45:44.999672Z"
    }
   },
   "outputs": [
    {
     "data": {
      "text/plain": [
       "97.49358699786069"
      ]
     },
     "execution_count": 524,
     "metadata": {},
     "output_type": "execute_result"
    }
   ],
   "source": [
    "predict_price('1st Phase JP Nagar',1000, 3, 3,'Plot  Area')"
   ]
  },
  {
   "cell_type": "code",
   "execution_count": 525,
   "metadata": {
    "execution": {
     "iopub.execute_input": "2023-08-10T16:45:50.919869Z",
     "iopub.status.busy": "2023-08-10T16:45:50.919487Z",
     "iopub.status.idle": "2023-08-10T16:45:50.928595Z",
     "shell.execute_reply": "2023-08-10T16:45:50.927419Z",
     "shell.execute_reply.started": "2023-08-10T16:45:50.919838Z"
    }
   },
   "outputs": [
    {
     "data": {
      "text/plain": [
       "203.13116299631838"
      ]
     },
     "execution_count": 525,
     "metadata": {},
     "output_type": "execute_result"
    }
   ],
   "source": [
    "predict_price('Indira Nagar',1000, 2, 2,'Plot  Area')"
   ]
  },
  {
   "cell_type": "code",
   "execution_count": 526,
   "metadata": {
    "execution": {
     "iopub.execute_input": "2023-08-10T16:45:56.055264Z",
     "iopub.status.busy": "2023-08-10T16:45:56.054814Z",
     "iopub.status.idle": "2023-08-10T16:45:56.064398Z",
     "shell.execute_reply": "2023-08-10T16:45:56.063050Z",
     "shell.execute_reply.started": "2023-08-10T16:45:56.055225Z"
    }
   },
   "outputs": [
    {
     "data": {
      "text/plain": [
       "207.20846830434658"
      ]
     },
     "execution_count": 526,
     "metadata": {},
     "output_type": "execute_result"
    }
   ],
   "source": [
    "predict_price('Indira Nagar',1000, 3, 3,'Plot  Area')"
   ]
  },
  {
   "cell_type": "markdown",
   "metadata": {},
   "source": [
    "### **Export the Model to a Pickle file**"
   ]
  },
  {
   "cell_type": "code",
   "execution_count": 520,
   "metadata": {
    "execution": {
     "iopub.execute_input": "2023-08-10T16:35:41.131632Z",
     "iopub.status.busy": "2023-08-10T16:35:41.130580Z",
     "iopub.status.idle": "2023-08-10T16:35:41.140227Z",
     "shell.execute_reply": "2023-08-10T16:35:41.138545Z",
     "shell.execute_reply.started": "2023-08-10T16:35:41.131575Z"
    }
   },
   "outputs": [],
   "source": [
    "import pickle\n",
    "with open('Bangalore_home_price_prediction','wb') as p:\n",
    "    pickle.dump(lr,p)"
   ]
  }
 ],
 "metadata": {
  "kernelspec": {
   "display_name": "Python 3 (ipykernel)",
   "language": "python",
   "name": "python3"
  },
  "language_info": {
   "codemirror_mode": {
    "name": "ipython",
    "version": 3
   },
   "file_extension": ".py",
   "mimetype": "text/x-python",
   "name": "python",
   "nbconvert_exporter": "python",
   "pygments_lexer": "ipython3",
   "version": "3.10.9"
  }
 },
 "nbformat": 4,
 "nbformat_minor": 4
}
